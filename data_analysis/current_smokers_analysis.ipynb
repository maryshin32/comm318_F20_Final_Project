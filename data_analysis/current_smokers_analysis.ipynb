{
 "cells": [
  {
   "cell_type": "markdown",
   "metadata": {},
   "source": [
    "# Proportion of Adults in CA Who Are Current Smokers\n",
    "\n",
    "In this data analysis notebook I go through what insights this data set will provide us by looking at differences among age groups. Then I will discuss whether this can give us meaningful patterns related to mental health and depression rates in CA."
   ]
  },
  {
   "cell_type": "code",
   "execution_count": 1,
   "metadata": {},
   "outputs": [],
   "source": [
    "import pandas as pd\n",
    "import matplotlib.pyplot as plt\n",
    "import math"
   ]
  },
  {
   "cell_type": "code",
   "execution_count": 2,
   "metadata": {},
   "outputs": [],
   "source": [
    "# Reading in the cleaned data:\n",
    "\n",
    "smoke_df = pd.read_csv('../data/Cleaned/smoke_CLEANED.csv')"
   ]
  },
  {
   "cell_type": "code",
   "execution_count": 3,
   "metadata": {},
   "outputs": [
    {
     "data": {
      "text/html": [
       "<div>\n",
       "<style scoped>\n",
       "    .dataframe tbody tr th:only-of-type {\n",
       "        vertical-align: middle;\n",
       "    }\n",
       "\n",
       "    .dataframe tbody tr th {\n",
       "        vertical-align: top;\n",
       "    }\n",
       "\n",
       "    .dataframe thead th {\n",
       "        text-align: right;\n",
       "    }\n",
       "</style>\n",
       "<table border=\"1\" class=\"dataframe\">\n",
       "  <thead>\n",
       "    <tr style=\"text-align: right;\">\n",
       "      <th></th>\n",
       "      <th>Geography</th>\n",
       "      <th>year</th>\n",
       "      <th>category</th>\n",
       "      <th>category_name</th>\n",
       "      <th>percent</th>\n",
       "      <th>Standard Error</th>\n",
       "      <th>lower_cl</th>\n",
       "      <th>upper_cl</th>\n",
       "    </tr>\n",
       "  </thead>\n",
       "  <tbody>\n",
       "    <tr>\n",
       "      <th>0</th>\n",
       "      <td>California</td>\n",
       "      <td>2012</td>\n",
       "      <td>Total Population</td>\n",
       "      <td>Total Population</td>\n",
       "      <td>12.7</td>\n",
       "      <td>0.281</td>\n",
       "      <td>12.2</td>\n",
       "      <td>13.3</td>\n",
       "    </tr>\n",
       "    <tr>\n",
       "      <th>1</th>\n",
       "      <td>California</td>\n",
       "      <td>2012</td>\n",
       "      <td>Race-Ethnicity</td>\n",
       "      <td>Hispanic</td>\n",
       "      <td>11.7</td>\n",
       "      <td>0.539</td>\n",
       "      <td>10.7</td>\n",
       "      <td>12.8</td>\n",
       "    </tr>\n",
       "    <tr>\n",
       "      <th>2</th>\n",
       "      <td>California</td>\n",
       "      <td>2012</td>\n",
       "      <td>Race-Ethnicity</td>\n",
       "      <td>African-American</td>\n",
       "      <td>15.7</td>\n",
       "      <td>1.374</td>\n",
       "      <td>13</td>\n",
       "      <td>18.4</td>\n",
       "    </tr>\n",
       "    <tr>\n",
       "      <th>3</th>\n",
       "      <td>California</td>\n",
       "      <td>2012</td>\n",
       "      <td>Race-Ethnicity</td>\n",
       "      <td>Asian/Pacific Islander</td>\n",
       "      <td>10.0</td>\n",
       "      <td>0.986</td>\n",
       "      <td>8</td>\n",
       "      <td>11.9</td>\n",
       "    </tr>\n",
       "    <tr>\n",
       "      <th>4</th>\n",
       "      <td>California</td>\n",
       "      <td>2012</td>\n",
       "      <td>Race-Ethnicity</td>\n",
       "      <td>White</td>\n",
       "      <td>13.3</td>\n",
       "      <td>0.365</td>\n",
       "      <td>12.6</td>\n",
       "      <td>14</td>\n",
       "    </tr>\n",
       "    <tr>\n",
       "      <th>...</th>\n",
       "      <td>...</td>\n",
       "      <td>...</td>\n",
       "      <td>...</td>\n",
       "      <td>...</td>\n",
       "      <td>...</td>\n",
       "      <td>...</td>\n",
       "      <td>...</td>\n",
       "      <td>...</td>\n",
       "    </tr>\n",
       "    <tr>\n",
       "      <th>135</th>\n",
       "      <td>California</td>\n",
       "      <td>2018</td>\n",
       "      <td>Education</td>\n",
       "      <td>College graduate</td>\n",
       "      <td>6.5</td>\n",
       "      <td>0.955</td>\n",
       "      <td>4.6</td>\n",
       "      <td>8.4</td>\n",
       "    </tr>\n",
       "    <tr>\n",
       "      <th>136</th>\n",
       "      <td>California</td>\n",
       "      <td>2018</td>\n",
       "      <td>Health Insurance</td>\n",
       "      <td>Insured</td>\n",
       "      <td>9.2</td>\n",
       "      <td>0.663</td>\n",
       "      <td>7.9</td>\n",
       "      <td>10.5</td>\n",
       "    </tr>\n",
       "    <tr>\n",
       "      <th>137</th>\n",
       "      <td>California</td>\n",
       "      <td>2018</td>\n",
       "      <td>Health Insurance</td>\n",
       "      <td>Uninsured</td>\n",
       "      <td>13.3</td>\n",
       "      <td>1.99</td>\n",
       "      <td>9.4</td>\n",
       "      <td>17.2</td>\n",
       "    </tr>\n",
       "    <tr>\n",
       "      <th>138</th>\n",
       "      <td>California</td>\n",
       "      <td>2018</td>\n",
       "      <td>Sex</td>\n",
       "      <td>Male</td>\n",
       "      <td>12.1</td>\n",
       "      <td>0.91</td>\n",
       "      <td>10.3</td>\n",
       "      <td>13.9</td>\n",
       "    </tr>\n",
       "    <tr>\n",
       "      <th>139</th>\n",
       "      <td>California</td>\n",
       "      <td>2018</td>\n",
       "      <td>Sex</td>\n",
       "      <td>Female</td>\n",
       "      <td>7.5</td>\n",
       "      <td>0.907</td>\n",
       "      <td>5.7</td>\n",
       "      <td>9.3</td>\n",
       "    </tr>\n",
       "  </tbody>\n",
       "</table>\n",
       "<p>140 rows × 8 columns</p>\n",
       "</div>"
      ],
      "text/plain": [
       "      Geography  year          category           category_name  percent  \\\n",
       "0    California  2012  Total Population        Total Population     12.7   \n",
       "1    California  2012    Race-Ethnicity                Hispanic     11.7   \n",
       "2    California  2012    Race-Ethnicity        African-American     15.7   \n",
       "3    California  2012    Race-Ethnicity  Asian/Pacific Islander     10.0   \n",
       "4    California  2012    Race-Ethnicity                   White     13.3   \n",
       "..          ...   ...               ...                     ...      ...   \n",
       "135  California  2018         Education        College graduate      6.5   \n",
       "136  California  2018  Health Insurance                 Insured      9.2   \n",
       "137  California  2018  Health Insurance               Uninsured     13.3   \n",
       "138  California  2018               Sex                    Male     12.1   \n",
       "139  California  2018               Sex                  Female      7.5   \n",
       "\n",
       "    Standard Error lower_cl upper_cl  \n",
       "0            0.281     12.2     13.3  \n",
       "1            0.539     10.7     12.8  \n",
       "2            1.374       13     18.4  \n",
       "3            0.986        8     11.9  \n",
       "4            0.365     12.6       14  \n",
       "..             ...      ...      ...  \n",
       "135          0.955      4.6      8.4  \n",
       "136          0.663      7.9     10.5  \n",
       "137           1.99      9.4     17.2  \n",
       "138           0.91     10.3     13.9  \n",
       "139          0.907      5.7      9.3  \n",
       "\n",
       "[140 rows x 8 columns]"
      ]
     },
     "execution_count": 3,
     "metadata": {},
     "output_type": "execute_result"
    }
   ],
   "source": [
    "smoke_df"
   ]
  },
  {
   "cell_type": "markdown",
   "metadata": {},
   "source": [
    "As mentioned in the data_exploration notebook for current smokers in CA from 2012-2018, I know I want to focus on differences across the age groups in our data!\n",
    "\n",
    "However, before that, I want to briefly take some time to organize the data by year, category, category name, and the percent of current smokers to gain a better understanding of the divisions.\n",
    "\n",
    "I will first do a simple .groupby function:"
   ]
  },
  {
   "cell_type": "code",
   "execution_count": 4,
   "metadata": {},
   "outputs": [
    {
     "data": {
      "text/html": [
       "<div>\n",
       "<style scoped>\n",
       "    .dataframe tbody tr th:only-of-type {\n",
       "        vertical-align: middle;\n",
       "    }\n",
       "\n",
       "    .dataframe tbody tr th {\n",
       "        vertical-align: top;\n",
       "    }\n",
       "\n",
       "    .dataframe thead th {\n",
       "        text-align: right;\n",
       "    }\n",
       "</style>\n",
       "<table border=\"1\" class=\"dataframe\">\n",
       "  <thead>\n",
       "    <tr style=\"text-align: right;\">\n",
       "      <th></th>\n",
       "      <th></th>\n",
       "      <th></th>\n",
       "      <th>percent</th>\n",
       "    </tr>\n",
       "    <tr>\n",
       "      <th>year</th>\n",
       "      <th>category</th>\n",
       "      <th>category_name</th>\n",
       "      <th></th>\n",
       "    </tr>\n",
       "  </thead>\n",
       "  <tbody>\n",
       "    <tr>\n",
       "      <th rowspan=\"5\" valign=\"top\">2012</th>\n",
       "      <th rowspan=\"5\" valign=\"top\">Age</th>\n",
       "      <th>20 to 29 years</th>\n",
       "      <td>14.7</td>\n",
       "    </tr>\n",
       "    <tr>\n",
       "      <th>30 to 39 years</th>\n",
       "      <td>13.9</td>\n",
       "    </tr>\n",
       "    <tr>\n",
       "      <th>40 to 49 years</th>\n",
       "      <td>14.1</td>\n",
       "    </tr>\n",
       "    <tr>\n",
       "      <th>50 to 59 years</th>\n",
       "      <td>15.4</td>\n",
       "    </tr>\n",
       "    <tr>\n",
       "      <th>60 years and above</th>\n",
       "      <td>7.6</td>\n",
       "    </tr>\n",
       "    <tr>\n",
       "      <th>...</th>\n",
       "      <th>...</th>\n",
       "      <th>...</th>\n",
       "      <td>...</td>\n",
       "    </tr>\n",
       "    <tr>\n",
       "      <th rowspan=\"5\" valign=\"top\">2018</th>\n",
       "      <th rowspan=\"2\" valign=\"top\">Race-Ethnicity</th>\n",
       "      <th>Other</th>\n",
       "      <td>NaN</td>\n",
       "    </tr>\n",
       "    <tr>\n",
       "      <th>White</th>\n",
       "      <td>NaN</td>\n",
       "    </tr>\n",
       "    <tr>\n",
       "      <th rowspan=\"2\" valign=\"top\">Sex</th>\n",
       "      <th>Female</th>\n",
       "      <td>7.5</td>\n",
       "    </tr>\n",
       "    <tr>\n",
       "      <th>Male</th>\n",
       "      <td>12.1</td>\n",
       "    </tr>\n",
       "    <tr>\n",
       "      <th>Total Population</th>\n",
       "      <th>Total Population</th>\n",
       "      <td>9.7</td>\n",
       "    </tr>\n",
       "  </tbody>\n",
       "</table>\n",
       "<p>140 rows × 1 columns</p>\n",
       "</div>"
      ],
      "text/plain": [
       "                                          percent\n",
       "year category         category_name              \n",
       "2012 Age              20 to 29 years         14.7\n",
       "                      30 to 39 years         13.9\n",
       "                      40 to 49 years         14.1\n",
       "                      50 to 59 years         15.4\n",
       "                      60 years and above      7.6\n",
       "...                                           ...\n",
       "2018 Race-Ethnicity   Other                   NaN\n",
       "                      White                   NaN\n",
       "     Sex              Female                  7.5\n",
       "                      Male                   12.1\n",
       "     Total Population Total Population        9.7\n",
       "\n",
       "[140 rows x 1 columns]"
      ]
     },
     "execution_count": 4,
     "metadata": {},
     "output_type": "execute_result"
    }
   ],
   "source": [
    "# Grouping the proportion of smokers by year, category and category name\n",
    "\n",
    "smoke_df.groupby(['year','category','category_name'])['percent'].mean().to_frame()"
   ]
  },
  {
   "cell_type": "markdown",
   "metadata": {},
   "source": [
    "### Observations:\n",
    "\n",
    "* I think this is just a nicer way to represent our data, even though we haven't gotten into the details for smokers by age group over time.\n",
    "* However, there seems to be a problem!!! Unfortunately, for some unknown reason, although this data set is taken from the same indicator I've used for my other data sets, this one specifically has different age group divisions...the other ones had 18-34, 35-44, 45-54, 55-64, and 65+ years. But clearly, looking at the table above, the age groups are 20-29, 30-39, 40-49, 50-59, and 60+ years.\n",
    "\n",
    "We cannot directly manipulate this without changing the survey results, so we will have to find a way to work around this. I still want to weave this into my story because I believe that smoking is a very important, related topic to mental health. "
   ]
  },
  {
   "cell_type": "markdown",
   "metadata": {},
   "source": [
    "Before we figure out what to do with this, let's just take a moment to observe the differences between age groups by using our good old friend, a row filter by 'Age':"
   ]
  },
  {
   "cell_type": "code",
   "execution_count": 5,
   "metadata": {},
   "outputs": [
    {
     "data": {
      "text/html": [
       "<div>\n",
       "<style scoped>\n",
       "    .dataframe tbody tr th:only-of-type {\n",
       "        vertical-align: middle;\n",
       "    }\n",
       "\n",
       "    .dataframe tbody tr th {\n",
       "        vertical-align: top;\n",
       "    }\n",
       "\n",
       "    .dataframe thead th {\n",
       "        text-align: right;\n",
       "    }\n",
       "</style>\n",
       "<table border=\"1\" class=\"dataframe\">\n",
       "  <thead>\n",
       "    <tr style=\"text-align: right;\">\n",
       "      <th>category_name</th>\n",
       "      <th>20 to 29 years</th>\n",
       "      <th>30 to 39 years</th>\n",
       "      <th>40 to 49 years</th>\n",
       "      <th>50 to 59 years</th>\n",
       "      <th>60 years and above</th>\n",
       "      <th>Less than 20 years</th>\n",
       "    </tr>\n",
       "    <tr>\n",
       "      <th>year</th>\n",
       "      <th></th>\n",
       "      <th></th>\n",
       "      <th></th>\n",
       "      <th></th>\n",
       "      <th></th>\n",
       "      <th></th>\n",
       "    </tr>\n",
       "  </thead>\n",
       "  <tbody>\n",
       "    <tr>\n",
       "      <th>2012</th>\n",
       "      <td>14.7</td>\n",
       "      <td>13.9</td>\n",
       "      <td>14.1</td>\n",
       "      <td>15.4</td>\n",
       "      <td>7.6</td>\n",
       "      <td>10.6</td>\n",
       "    </tr>\n",
       "    <tr>\n",
       "      <th>2013</th>\n",
       "      <td>16.5</td>\n",
       "      <td>11.8</td>\n",
       "      <td>11.2</td>\n",
       "      <td>13.8</td>\n",
       "      <td>8.0</td>\n",
       "      <td>10.5</td>\n",
       "    </tr>\n",
       "    <tr>\n",
       "      <th>2014</th>\n",
       "      <td>14.0</td>\n",
       "      <td>13.0</td>\n",
       "      <td>11.5</td>\n",
       "      <td>13.6</td>\n",
       "      <td>8.3</td>\n",
       "      <td>9.8</td>\n",
       "    </tr>\n",
       "    <tr>\n",
       "      <th>2015</th>\n",
       "      <td>12.2</td>\n",
       "      <td>14.6</td>\n",
       "      <td>10.7</td>\n",
       "      <td>11.6</td>\n",
       "      <td>6.9</td>\n",
       "      <td>3.1</td>\n",
       "    </tr>\n",
       "    <tr>\n",
       "      <th>2016</th>\n",
       "      <td>13.3</td>\n",
       "      <td>13.4</td>\n",
       "      <td>12.9</td>\n",
       "      <td>13.4</td>\n",
       "      <td>7.6</td>\n",
       "      <td>9.5</td>\n",
       "    </tr>\n",
       "    <tr>\n",
       "      <th>2017</th>\n",
       "      <td>12.6</td>\n",
       "      <td>14.4</td>\n",
       "      <td>10.6</td>\n",
       "      <td>8.4</td>\n",
       "      <td>7.3</td>\n",
       "      <td>0.0</td>\n",
       "    </tr>\n",
       "    <tr>\n",
       "      <th>2018</th>\n",
       "      <td>12.7</td>\n",
       "      <td>11.8</td>\n",
       "      <td>10.3</td>\n",
       "      <td>12.9</td>\n",
       "      <td>5.8</td>\n",
       "      <td>0.0</td>\n",
       "    </tr>\n",
       "  </tbody>\n",
       "</table>\n",
       "</div>"
      ],
      "text/plain": [
       "category_name  20 to 29 years  30 to 39 years  40 to 49 years  50 to 59 years  \\\n",
       "year                                                                            \n",
       "2012                     14.7            13.9            14.1            15.4   \n",
       "2013                     16.5            11.8            11.2            13.8   \n",
       "2014                     14.0            13.0            11.5            13.6   \n",
       "2015                     12.2            14.6            10.7            11.6   \n",
       "2016                     13.3            13.4            12.9            13.4   \n",
       "2017                     12.6            14.4            10.6             8.4   \n",
       "2018                     12.7            11.8            10.3            12.9   \n",
       "\n",
       "category_name  60 years and above  Less than 20 years  \n",
       "year                                                   \n",
       "2012                          7.6                10.6  \n",
       "2013                          8.0                10.5  \n",
       "2014                          8.3                 9.8  \n",
       "2015                          6.9                 3.1  \n",
       "2016                          7.6                 9.5  \n",
       "2017                          7.3                 0.0  \n",
       "2018                          5.8                 0.0  "
      ]
     },
     "execution_count": 5,
     "metadata": {},
     "output_type": "execute_result"
    }
   ],
   "source": [
    "# Creating an Age filter:\n",
    "\n",
    "age_filter = smoke_df['category'] == 'Age'\n",
    "\n",
    "age_smoke_df = smoke_df[age_filter]\n",
    "\n",
    "age_grouped = age_smoke_df.groupby(['year', 'category_name'])['percent'].sum().unstack()\n",
    "\n",
    "age_grouped"
   ]
  },
  {
   "cell_type": "markdown",
   "metadata": {},
   "source": [
    "### Observations:\n",
    "\n",
    "* OH! How interesting: There is a \"Less than 20 years\" age group too...!\n",
    "* Although it's sort of difficult to comprehend trends right away by looking through all these numbers, we can make some initial observations before we plot it visually:\n",
    "* In 2012, 50-59 year olds reported highest percentage of smokers,\n",
    "* The rate of current smokers for this 50-59 age group actually decreases overall from 15.4% to 12.9%, but with some minor increases in 2016 and 2018. \n",
    "* Good thing is that young people (Less than 20 years) are not smoking as much recently, with percentages going all the way down to zero in 2017 and 2018. Interesting!\n",
    "* 60 years and above also report very low smoking percentages across the years.\n",
    "* In contrast, the 20 to 29 year olds and then the 30 to 39 year olds, look like they have the highest percentages of current smokers.\n",
    "\n",
    "Let's look at a grouped table that only shows the age group, and the mean percentage of current smokers in each age group throughout the years: "
   ]
  },
  {
   "cell_type": "code",
   "execution_count": 6,
   "metadata": {},
   "outputs": [
    {
     "data": {
      "text/plain": [
       "category_name\n",
       "20 to 29 years        13.714286\n",
       "30 to 39 years        13.271429\n",
       "40 to 49 years        11.614286\n",
       "50 to 59 years        12.728571\n",
       "60 years and above     7.357143\n",
       "Less than 20 years     6.214286\n",
       "dtype: float64"
      ]
     },
     "execution_count": 6,
     "metadata": {},
     "output_type": "execute_result"
    }
   ],
   "source": [
    "# Showing the category names (Age groups) and their mean percentages of smokers:\n",
    "\n",
    "age_smoke = age_grouped.mean(axis=0)\n",
    "\n",
    "age_smoke"
   ]
  },
  {
   "cell_type": "markdown",
   "metadata": {},
   "source": [
    "### Observations:\n",
    "\n",
    "* So the younger age groups (besides the youngest group, less than 20 years) all have higher average smoker rates than the older groups! The 20 to 29 and 30 to 39 year age groups both have average rates in the 13% range, followed by the 50 to 59 and 40 to 49 year age groups.\n",
    "* The older age groups are not behind by a lot, but still, it's interesting to see that a higher percentage of younger adults are smoking. \n",
    "* The 60+ age range is close to the lowest average percentage of current smokers, at about 7.36%, a little more than 1% higher than the youngest age group.\n",
    "\n",
    "Let's check this data out on a plot, since I want to see it visually! "
   ]
  },
  {
   "cell_type": "code",
   "execution_count": 7,
   "metadata": {},
   "outputs": [
    {
     "data": {
      "text/plain": [
       "<AxesSubplot:xlabel='year'>"
      ]
     },
     "execution_count": 7,
     "metadata": {},
     "output_type": "execute_result"
    },
    {
     "data": {
      "image/png": "[encoded data removed]",
      "text/plain": [
       "<Figure size 1152x432 with 1 Axes>"
      ]
     },
     "metadata": {
      "needs_background": "light"
     },
     "output_type": "display_data"
    }
   ],
   "source": [
    "# To see it visually on a plot:\n",
    "\n",
    "age_grouped.plot(kind='bar', figsize=(16,6))"
   ]
  },
  {
   "cell_type": "markdown",
   "metadata": {},
   "source": [
    "Okay, that's a lot of bars on this graph! Let's try looking at a line chart:"
   ]
  },
  {
   "cell_type": "code",
   "execution_count": 8,
   "metadata": {},
   "outputs": [
    {
     "data": {
      "text/plain": [
       "<AxesSubplot:xlabel='year'>"
      ]
     },
     "execution_count": 8,
     "metadata": {},
     "output_type": "execute_result"
    },
    {
     "data": {
      "image/png": "[encoded data removed]",
      "text/plain": [
       "<Figure size 1152x432 with 1 Axes>"
      ]
     },
     "metadata": {
      "needs_background": "light"
     },
     "output_type": "display_data"
    }
   ],
   "source": [
    "# Making a line plot:\n",
    "\n",
    "age_grouped.plot(kind='line', figsize=(16,6), style='-o')"
   ]
  },
  {
   "cell_type": "markdown",
   "metadata": {},
   "source": [
    "I find this a lot easier to comprehend! \n",
    "\n",
    "### Observations:\n",
    "\n",
    "* We can see from this line plot that the 50 to 59 year-old age group, as I noted above in my observations, had the highest percentage of smokers in 2012, but saw an overall decrease even with a slight spike during the last year in 2018.\n",
    "\n",
    "* In the beginning, it looks like the blue line, which represents the 20 to 29 year age group, had the highest percentage of smokers, before being overturned by the orange line, or the 30 to 39 year age group. This is consistent with my observations above before we plotted this graph.\n",
    "\n",
    "So, once again to refresh our memory, my original depression rates data uncovered that the 55-64 year age group was consistently reporting higher levels of depression. I went into other data sets from the same LGHC indicator to see if we could gain a sense of what other factors or behaviors can connect to mental health. \n",
    "\n",
    "### Going forward?...\n",
    "\n",
    "From this data, it looks like the oldest age groups, 50 to 59 and 60+ (which contains the 55-64 age range that I was hoping to learn more about), are actually not smoking as much as the younger groups. This means that although this was an insightful data exploration & analysis journey, it most likely has come to an end for the desired purpose of my data story, especially since this data uses different age groups. I learned a lot, but it looks like older adults are actually smoking a lot less throughout the years. \n",
    "\n",
    "With that, I will not be including current smokers into my final data story, because it's just not conclusive enough for me to comment on it. \n",
    "\n",
    "There are still several other factors to look at, so let's keep our hope up that we can include 2-3 other factors that might connect to mental health, and specifically depression, for older adults in the 55-64 age range. \n",
    "\n",
    "So it goes! "
   ]
  }
 ],
 "metadata": {
  "kernelspec": {
   "display_name": "Python 3",
   "language": "python",
   "name": "python3"
  },
  "language_info": {
   "codemirror_mode": {
    "name": "ipython",
    "version": 3
   },
   "file_extension": ".py",
   "mimetype": "text/x-python",
   "name": "python",
   "nbconvert_exporter": "python",
   "pygments_lexer": "ipython3",
   "version": "3.7.3"
  }
 },
 "nbformat": 4,
 "nbformat_minor": 2
}
