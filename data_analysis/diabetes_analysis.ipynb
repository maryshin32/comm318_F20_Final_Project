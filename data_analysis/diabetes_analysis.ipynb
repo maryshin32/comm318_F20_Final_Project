{
 "cells": [
  {
   "cell_type": "markdown",
   "metadata": {},
   "source": [
    "# Prevalence of Diabetes Among Adults in CA\n",
    "\n",
    "In this analysis notebook, I will look specifically into differences in prevalence of diabetes across the age groups in the data set."
   ]
  },
  {
   "cell_type": "code",
   "execution_count": 1,
   "metadata": {},
   "outputs": [],
   "source": [
    "import pandas as pd\n",
    "import matplotlib.pyplot as plt\n",
    "import math"
   ]
  },
  {
   "cell_type": "code",
   "execution_count": 2,
   "metadata": {},
   "outputs": [],
   "source": [
    "# Read in the data set:\n",
    "\n",
    "diabetes_df = pd.read_csv('../data/Cleaned/diabetes_CLEANED.csv')"
   ]
  },
  {
   "cell_type": "code",
   "execution_count": 3,
   "metadata": {},
   "outputs": [
    {
     "name": "stdout",
     "output_type": "stream",
     "text": [
      "<class 'pandas.core.frame.DataFrame'>\n",
      "RangeIndex: 147 entries, 0 to 146\n",
      "Data columns (total 8 columns):\n",
      " #   Column          Non-Null Count  Dtype  \n",
      "---  ------          --------------  -----  \n",
      " 0   Geography       147 non-null    object \n",
      " 1   year            147 non-null    int64  \n",
      " 2   category        147 non-null    object \n",
      " 3   category_name   147 non-null    object \n",
      " 4   percent         147 non-null    float64\n",
      " 5   lower_cl        147 non-null    float64\n",
      " 6   upper_cl        147 non-null    float64\n",
      " 7   Standard Error  147 non-null    float64\n",
      "dtypes: float64(4), int64(1), object(3)\n",
      "memory usage: 9.3+ KB\n"
     ]
    }
   ],
   "source": [
    "# Checking the data type:\n",
    "\n",
    "diabetes_df.info()"
   ]
  },
  {
   "cell_type": "code",
   "execution_count": 4,
   "metadata": {},
   "outputs": [
    {
     "data": {
      "text/plain": [
       "Index(['Geography', 'year', 'category', 'category_name', 'percent', 'lower_cl',\n",
       "       'upper_cl', 'Standard Error'],\n",
       "      dtype='object')"
      ]
     },
     "execution_count": 4,
     "metadata": {},
     "output_type": "execute_result"
    }
   ],
   "source": [
    "# Looking at the columns we have:\n",
    "\n",
    "diabetes_df.columns"
   ]
  },
  {
   "cell_type": "markdown",
   "metadata": {},
   "source": [
    "### Observations:\n",
    "\n",
    "* The age groups are the same as those in the original adult depression rates!\n",
    "* I know I want to look at differences among age groups, but before that I will quickly organize the data and see if I can glean any interesting info from looking at the data this way:"
   ]
  },
  {
   "cell_type": "code",
   "execution_count": 5,
   "metadata": {
    "scrolled": true
   },
   "outputs": [
    {
     "data": {
      "text/html": [
       "<div>\n",
       "<style scoped>\n",
       "    .dataframe tbody tr th:only-of-type {\n",
       "        vertical-align: middle;\n",
       "    }\n",
       "\n",
       "    .dataframe tbody tr th {\n",
       "        vertical-align: top;\n",
       "    }\n",
       "\n",
       "    .dataframe thead th {\n",
       "        text-align: right;\n",
       "    }\n",
       "</style>\n",
       "<table border=\"1\" class=\"dataframe\">\n",
       "  <thead>\n",
       "    <tr style=\"text-align: right;\">\n",
       "      <th></th>\n",
       "      <th></th>\n",
       "      <th></th>\n",
       "      <th>percent</th>\n",
       "    </tr>\n",
       "    <tr>\n",
       "      <th>year</th>\n",
       "      <th>category</th>\n",
       "      <th>category_name</th>\n",
       "      <th></th>\n",
       "    </tr>\n",
       "  </thead>\n",
       "  <tbody>\n",
       "    <tr>\n",
       "      <th rowspan=\"5\" valign=\"top\">2012</th>\n",
       "      <th rowspan=\"5\" valign=\"top\">Age</th>\n",
       "      <th>18 to 34 years</th>\n",
       "      <td>1.8</td>\n",
       "    </tr>\n",
       "    <tr>\n",
       "      <th>35 to 44 years</th>\n",
       "      <td>6.2</td>\n",
       "    </tr>\n",
       "    <tr>\n",
       "      <th>45 to 54 years</th>\n",
       "      <td>9.7</td>\n",
       "    </tr>\n",
       "    <tr>\n",
       "      <th>55 to 64 years</th>\n",
       "      <td>17.9</td>\n",
       "    </tr>\n",
       "    <tr>\n",
       "      <th>65 years and above</th>\n",
       "      <td>20.1</td>\n",
       "    </tr>\n",
       "    <tr>\n",
       "      <th>...</th>\n",
       "      <th>...</th>\n",
       "      <th>...</th>\n",
       "      <td>...</td>\n",
       "    </tr>\n",
       "    <tr>\n",
       "      <th rowspan=\"5\" valign=\"top\">2018</th>\n",
       "      <th rowspan=\"2\" valign=\"top\">Race-Ethnicity</th>\n",
       "      <th>Hispanic</th>\n",
       "      <td>12.1</td>\n",
       "    </tr>\n",
       "    <tr>\n",
       "      <th>White</th>\n",
       "      <td>8.4</td>\n",
       "    </tr>\n",
       "    <tr>\n",
       "      <th rowspan=\"2\" valign=\"top\">Sex</th>\n",
       "      <th>Female</th>\n",
       "      <td>10.3</td>\n",
       "    </tr>\n",
       "    <tr>\n",
       "      <th>Male</th>\n",
       "      <td>10.5</td>\n",
       "    </tr>\n",
       "    <tr>\n",
       "      <th>Total population</th>\n",
       "      <th>Total population</th>\n",
       "      <td>10.4</td>\n",
       "    </tr>\n",
       "  </tbody>\n",
       "</table>\n",
       "<p>147 rows × 1 columns</p>\n",
       "</div>"
      ],
      "text/plain": [
       "                                          percent\n",
       "year category         category_name              \n",
       "2012 Age              18 to 34 years          1.8\n",
       "                      35 to 44 years          6.2\n",
       "                      45 to 54 years          9.7\n",
       "                      55 to 64 years         17.9\n",
       "                      65 years and above     20.1\n",
       "...                                           ...\n",
       "2018 Race-Ethnicity   Hispanic               12.1\n",
       "                      White                   8.4\n",
       "     Sex              Female                 10.3\n",
       "                      Male                   10.5\n",
       "     Total population Total population       10.4\n",
       "\n",
       "[147 rows x 1 columns]"
      ]
     },
     "execution_count": 5,
     "metadata": {},
     "output_type": "execute_result"
    }
   ],
   "source": [
    "# Using a groupby function to organize the data by year, category & name, percent:\n",
    "\n",
    "diabetes_df.groupby(['year','category','category_name'])['percent'].mean().to_frame()"
   ]
  },
  {
   "cell_type": "markdown",
   "metadata": {},
   "source": [
    "### Observations:\n",
    "\n",
    "We have data from 2012-2018! Just looking at the very first year, I can tell this factor will be one I include in my data story.\n",
    "\n",
    "The two oldest age groups experience significantly higher prevalence of diabetes, wow. They're both in two-digits. Let's dive deeper into differences among age groups with an 'Age' Filter."
   ]
  },
  {
   "cell_type": "code",
   "execution_count": 6,
   "metadata": {
    "scrolled": true
   },
   "outputs": [
    {
     "data": {
      "text/html": [
       "<div>\n",
       "<style scoped>\n",
       "    .dataframe tbody tr th:only-of-type {\n",
       "        vertical-align: middle;\n",
       "    }\n",
       "\n",
       "    .dataframe tbody tr th {\n",
       "        vertical-align: top;\n",
       "    }\n",
       "\n",
       "    .dataframe thead th {\n",
       "        text-align: right;\n",
       "    }\n",
       "</style>\n",
       "<table border=\"1\" class=\"dataframe\">\n",
       "  <thead>\n",
       "    <tr style=\"text-align: right;\">\n",
       "      <th>category_name</th>\n",
       "      <th>18 to 34 years</th>\n",
       "      <th>35 to 44 years</th>\n",
       "      <th>45 to 54 years</th>\n",
       "      <th>55 to 64 years</th>\n",
       "      <th>65 years and above</th>\n",
       "    </tr>\n",
       "    <tr>\n",
       "      <th>year</th>\n",
       "      <th></th>\n",
       "      <th></th>\n",
       "      <th></th>\n",
       "      <th></th>\n",
       "      <th></th>\n",
       "    </tr>\n",
       "  </thead>\n",
       "  <tbody>\n",
       "    <tr>\n",
       "      <th>2012</th>\n",
       "      <td>1.8</td>\n",
       "      <td>6.2</td>\n",
       "      <td>9.7</td>\n",
       "      <td>17.9</td>\n",
       "      <td>20.1</td>\n",
       "    </tr>\n",
       "    <tr>\n",
       "      <th>2013</th>\n",
       "      <td>1.5</td>\n",
       "      <td>5.1</td>\n",
       "      <td>12.0</td>\n",
       "      <td>18.3</td>\n",
       "      <td>20.7</td>\n",
       "    </tr>\n",
       "    <tr>\n",
       "      <th>2014</th>\n",
       "      <td>1.6</td>\n",
       "      <td>5.4</td>\n",
       "      <td>10.2</td>\n",
       "      <td>18.2</td>\n",
       "      <td>21.8</td>\n",
       "    </tr>\n",
       "    <tr>\n",
       "      <th>2015</th>\n",
       "      <td>1.6</td>\n",
       "      <td>5.5</td>\n",
       "      <td>10.0</td>\n",
       "      <td>17.3</td>\n",
       "      <td>20.5</td>\n",
       "    </tr>\n",
       "    <tr>\n",
       "      <th>2016</th>\n",
       "      <td>1.5</td>\n",
       "      <td>4.3</td>\n",
       "      <td>10.9</td>\n",
       "      <td>17.3</td>\n",
       "      <td>24.2</td>\n",
       "    </tr>\n",
       "    <tr>\n",
       "      <th>2017</th>\n",
       "      <td>1.2</td>\n",
       "      <td>3.7</td>\n",
       "      <td>8.4</td>\n",
       "      <td>15.9</td>\n",
       "      <td>21.3</td>\n",
       "    </tr>\n",
       "    <tr>\n",
       "      <th>2018</th>\n",
       "      <td>4.0</td>\n",
       "      <td>5.1</td>\n",
       "      <td>11.6</td>\n",
       "      <td>17.7</td>\n",
       "      <td>22.4</td>\n",
       "    </tr>\n",
       "  </tbody>\n",
       "</table>\n",
       "</div>"
      ],
      "text/plain": [
       "category_name  18 to 34 years  35 to 44 years  45 to 54 years  55 to 64 years  \\\n",
       "year                                                                            \n",
       "2012                      1.8             6.2             9.7            17.9   \n",
       "2013                      1.5             5.1            12.0            18.3   \n",
       "2014                      1.6             5.4            10.2            18.2   \n",
       "2015                      1.6             5.5            10.0            17.3   \n",
       "2016                      1.5             4.3            10.9            17.3   \n",
       "2017                      1.2             3.7             8.4            15.9   \n",
       "2018                      4.0             5.1            11.6            17.7   \n",
       "\n",
       "category_name  65 years and above  \n",
       "year                               \n",
       "2012                         20.1  \n",
       "2013                         20.7  \n",
       "2014                         21.8  \n",
       "2015                         20.5  \n",
       "2016                         24.2  \n",
       "2017                         21.3  \n",
       "2018                         22.4  "
      ]
     },
     "execution_count": 6,
     "metadata": {},
     "output_type": "execute_result"
    }
   ],
   "source": [
    "# Creating an age_filter:\n",
    "\n",
    "age_filter = diabetes_df['category'] == 'Age'\n",
    "\n",
    "age_diabetes_df = diabetes_df[age_filter]\n",
    "\n",
    "age_grouped = age_diabetes_df.groupby(['year', 'category_name'])['percent'].sum().unstack()\n",
    "\n",
    "age_grouped "
   ]
  },
  {
   "cell_type": "markdown",
   "metadata": {},
   "source": [
    "Yup, it definitely looks like diabetes increases with age. However, it's interesting to see that for the 18-34 age group, there's been an overall increase in diabetes.\n",
    "\n",
    "Although the 55-64 age group didn't experience an overall increase, it's still at a much higher prevalence among these people than the other 3 younger age ranges."
   ]
  },
  {
   "cell_type": "code",
   "execution_count": 7,
   "metadata": {},
   "outputs": [
    {
     "data": {
      "text/plain": [
       "category_name\n",
       "18 to 34 years         1.885714\n",
       "35 to 44 years         5.042857\n",
       "45 to 54 years        10.400000\n",
       "55 to 64 years        17.514286\n",
       "65 years and above    21.571429\n",
       "dtype: float64"
      ]
     },
     "execution_count": 7,
     "metadata": {},
     "output_type": "execute_result"
    }
   ],
   "source": [
    "# Looking at means:\n",
    "\n",
    "diabetes_df = age_grouped.mean(axis=0)\n",
    "\n",
    "diabetes_df"
   ]
  },
  {
   "cell_type": "markdown",
   "metadata": {},
   "source": [
    "### Observations:\n",
    "\n",
    "* Diabetes increases with age\n",
    "* Could be another factor in mental health, other health conditions that have a higher likelihood of affecting older individuals \n",
    "* Acts as another potential stress factor"
   ]
  },
  {
   "cell_type": "code",
   "execution_count": 8,
   "metadata": {},
   "outputs": [
    {
     "data": {
      "text/html": [
       "<div>\n",
       "<style scoped>\n",
       "    .dataframe tbody tr th:only-of-type {\n",
       "        vertical-align: middle;\n",
       "    }\n",
       "\n",
       "    .dataframe tbody tr th {\n",
       "        vertical-align: top;\n",
       "    }\n",
       "\n",
       "    .dataframe thead th {\n",
       "        text-align: right;\n",
       "    }\n",
       "</style>\n",
       "<table border=\"1\" class=\"dataframe\">\n",
       "  <thead>\n",
       "    <tr style=\"text-align: right;\">\n",
       "      <th>category_name</th>\n",
       "      <th>55 to 64 years</th>\n",
       "    </tr>\n",
       "    <tr>\n",
       "      <th>year</th>\n",
       "      <th></th>\n",
       "    </tr>\n",
       "  </thead>\n",
       "  <tbody>\n",
       "    <tr>\n",
       "      <th>2012</th>\n",
       "      <td>17.9</td>\n",
       "    </tr>\n",
       "    <tr>\n",
       "      <th>2013</th>\n",
       "      <td>18.3</td>\n",
       "    </tr>\n",
       "    <tr>\n",
       "      <th>2014</th>\n",
       "      <td>18.2</td>\n",
       "    </tr>\n",
       "    <tr>\n",
       "      <th>2015</th>\n",
       "      <td>17.3</td>\n",
       "    </tr>\n",
       "    <tr>\n",
       "      <th>2016</th>\n",
       "      <td>17.3</td>\n",
       "    </tr>\n",
       "    <tr>\n",
       "      <th>2017</th>\n",
       "      <td>15.9</td>\n",
       "    </tr>\n",
       "    <tr>\n",
       "      <th>2018</th>\n",
       "      <td>17.7</td>\n",
       "    </tr>\n",
       "  </tbody>\n",
       "</table>\n",
       "</div>"
      ],
      "text/plain": [
       "category_name  55 to 64 years\n",
       "year                         \n",
       "2012                     17.9\n",
       "2013                     18.3\n",
       "2014                     18.2\n",
       "2015                     17.3\n",
       "2016                     17.3\n",
       "2017                     15.9\n",
       "2018                     17.7"
      ]
     },
     "execution_count": 8,
     "metadata": {},
     "output_type": "execute_result"
    }
   ],
   "source": [
    "# Only highlighting the 55 to 64 year age group:\n",
    "\n",
    "col_use = ['55 to 64 years']\n",
    "diabetes = age_grouped[col_use]\n",
    "diabetes"
   ]
  },
  {
   "cell_type": "markdown",
   "metadata": {},
   "source": [
    "With that, I have gained more insights about the prevalence of diabetes by age group. This is going to be another factor I can point to, besides adverse childhood experiences, that connects back to mental health. Overall, we saw that the older age groups report higher prevalence of diabetes, but for the 18-34 year-olds, although it's at low rates, their percentages increased substantially. \n",
    "\n",
    "For 55-64 age range, we see very high percentages across the board, but relatively little or no increase overall. I will discuss this in my final data story, but I'm intrigued about this: maybe these older age groups have the time and money to invest in learning more about their mental and physical health? They can afford to take the time and meet with health professionals and then try to put effort into their minds and bodies for a healthier future. \n",
    "\n",
    "I'm excited to talk about this and point to other factors in my data story. This notebook has been very helpful for me to characterize the depression trends among age groups and understand the 55-64 year-olds better.\n",
    "\n",
    "Thank you for looking through this, and let's move onto the next analysis notebook!"
   ]
  }
 ],
 "metadata": {
  "kernelspec": {
   "display_name": "Python 3",
   "language": "python",
   "name": "python3"
  },
  "language_info": {
   "codemirror_mode": {
    "name": "ipython",
    "version": 3
   },
   "file_extension": ".py",
   "mimetype": "text/x-python",
   "name": "python",
   "nbconvert_exporter": "python",
   "pygments_lexer": "ipython3",
   "version": "3.7.3"
  }
 },
 "nbformat": 4,
 "nbformat_minor": 2
}
