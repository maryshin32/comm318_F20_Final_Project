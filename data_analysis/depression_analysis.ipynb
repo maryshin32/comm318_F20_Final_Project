{
 "cells": [
  {
   "cell_type": "markdown",
   "metadata": {},
   "source": [
    "# Adult Depression Rates in CA\n",
    "\n",
    "## Introduction\n",
    "\n",
    "In this notebook, I will be carrying out analysis on the data I found for adult depression rates in CA from 2012 to 2018. The overall questions I want to ask are: What are some of the historical trends for percentages of depression among adults in CA? How do different demographic categories (sex, age, race) affect various experiences of depression? More specifically, do males and females experience depression differently? How about young versus older age groups?\n",
    "\n",
    "I will inspect the data, make initial observations, look at which specific demographic categories I am working with and which ones to focus on, and also make key interpretations about depression among different sexes, age groups, etc."
   ]
  },
  {
   "cell_type": "code",
   "execution_count": 1,
   "metadata": {},
   "outputs": [],
   "source": [
    "import pandas as pd\n",
    "import matplotlib.pyplot as plt\n",
    "import math"
   ]
  },
  {
   "cell_type": "markdown",
   "metadata": {},
   "source": [
    "## Which groups of people report higher levels of depression within each category?\n",
    "These observations make me think more about the differences in depression rates per year, and also the distribution of depression rates for each category of people. Within each category (e.g. sex, race, income level, etc), which groups of people are reporting higher levels of depression?"
   ]
  },
  {
   "cell_type": "markdown",
   "metadata": {},
   "source": [
    "I will go into observing several more key characteristics about my data, including the total number of people who were told they had depression, and dig deeper into the columns we have, in order to determine which ones we can derive key analysis from:"
   ]
  },
  {
   "cell_type": "code",
   "execution_count": 2,
   "metadata": {},
   "outputs": [],
   "source": [
    "depress_df = pd.read_csv('../data/Cleaned/depress_CLEANED.csv')"
   ]
  },
  {
   "cell_type": "code",
   "execution_count": 3,
   "metadata": {},
   "outputs": [
    {
     "data": {
      "text/html": [
       "<div>\n",
       "<style scoped>\n",
       "    .dataframe tbody tr th:only-of-type {\n",
       "        vertical-align: middle;\n",
       "    }\n",
       "\n",
       "    .dataframe tbody tr th {\n",
       "        vertical-align: top;\n",
       "    }\n",
       "\n",
       "    .dataframe thead th {\n",
       "        text-align: right;\n",
       "    }\n",
       "</style>\n",
       "<table border=\"1\" class=\"dataframe\">\n",
       "  <thead>\n",
       "    <tr style=\"text-align: right;\">\n",
       "      <th></th>\n",
       "      <th>year</th>\n",
       "      <th>category</th>\n",
       "      <th>category_name</th>\n",
       "      <th>count</th>\n",
       "      <th>weighted_count</th>\n",
       "      <th>percent</th>\n",
       "      <th>lower_cl</th>\n",
       "      <th>upper_cl</th>\n",
       "    </tr>\n",
       "  </thead>\n",
       "  <tbody>\n",
       "    <tr>\n",
       "      <th>0</th>\n",
       "      <td>2012</td>\n",
       "      <td>Total</td>\n",
       "      <td>Total</td>\n",
       "      <td>1920</td>\n",
       "      <td>NaN</td>\n",
       "      <td>11.74</td>\n",
       "      <td>11.11</td>\n",
       "      <td>12.37</td>\n",
       "    </tr>\n",
       "    <tr>\n",
       "      <th>1</th>\n",
       "      <td>2012</td>\n",
       "      <td>Sex</td>\n",
       "      <td>Male</td>\n",
       "      <td>561</td>\n",
       "      <td>1116664.0</td>\n",
       "      <td>8.12</td>\n",
       "      <td>7.32</td>\n",
       "      <td>8.92</td>\n",
       "    </tr>\n",
       "    <tr>\n",
       "      <th>2</th>\n",
       "      <td>2012</td>\n",
       "      <td>Sex</td>\n",
       "      <td>Female</td>\n",
       "      <td>1359</td>\n",
       "      <td>2163108.0</td>\n",
       "      <td>15.25</td>\n",
       "      <td>14.30</td>\n",
       "      <td>16.20</td>\n",
       "    </tr>\n",
       "    <tr>\n",
       "      <th>3</th>\n",
       "      <td>2012</td>\n",
       "      <td>Race-Ethnicity</td>\n",
       "      <td>White</td>\n",
       "      <td>1314</td>\n",
       "      <td>1806371.0</td>\n",
       "      <td>14.57</td>\n",
       "      <td>13.67</td>\n",
       "      <td>15.46</td>\n",
       "    </tr>\n",
       "    <tr>\n",
       "      <th>4</th>\n",
       "      <td>2012</td>\n",
       "      <td>Race-Ethnicity</td>\n",
       "      <td>Black</td>\n",
       "      <td>97</td>\n",
       "      <td>222022.0</td>\n",
       "      <td>13.54</td>\n",
       "      <td>10.44</td>\n",
       "      <td>16.65</td>\n",
       "    </tr>\n",
       "    <tr>\n",
       "      <th>...</th>\n",
       "      <td>...</td>\n",
       "      <td>...</td>\n",
       "      <td>...</td>\n",
       "      <td>...</td>\n",
       "      <td>...</td>\n",
       "      <td>...</td>\n",
       "      <td>...</td>\n",
       "      <td>...</td>\n",
       "    </tr>\n",
       "    <tr>\n",
       "      <th>156</th>\n",
       "      <td>2018</td>\n",
       "      <td>Age</td>\n",
       "      <td>18 to 34</td>\n",
       "      <td>496</td>\n",
       "      <td>1623933.0</td>\n",
       "      <td>17.69</td>\n",
       "      <td>13.72</td>\n",
       "      <td>21.66</td>\n",
       "    </tr>\n",
       "    <tr>\n",
       "      <th>157</th>\n",
       "      <td>2018</td>\n",
       "      <td>Age</td>\n",
       "      <td>35 to 44</td>\n",
       "      <td>285</td>\n",
       "      <td>749615.0</td>\n",
       "      <td>14.56</td>\n",
       "      <td>10.91</td>\n",
       "      <td>18.21</td>\n",
       "    </tr>\n",
       "    <tr>\n",
       "      <th>158</th>\n",
       "      <td>2018</td>\n",
       "      <td>Age</td>\n",
       "      <td>45 to 54</td>\n",
       "      <td>301</td>\n",
       "      <td>1052945.0</td>\n",
       "      <td>20.06</td>\n",
       "      <td>15.60</td>\n",
       "      <td>24.52</td>\n",
       "    </tr>\n",
       "    <tr>\n",
       "      <th>159</th>\n",
       "      <td>2018</td>\n",
       "      <td>Age</td>\n",
       "      <td>55 to 64</td>\n",
       "      <td>432</td>\n",
       "      <td>854201.0</td>\n",
       "      <td>21.44</td>\n",
       "      <td>17.65</td>\n",
       "      <td>25.23</td>\n",
       "    </tr>\n",
       "    <tr>\n",
       "      <th>160</th>\n",
       "      <td>2018</td>\n",
       "      <td>Age</td>\n",
       "      <td>65+ years</td>\n",
       "      <td>450</td>\n",
       "      <td>661974.0</td>\n",
       "      <td>15.60</td>\n",
       "      <td>13.42</td>\n",
       "      <td>17.78</td>\n",
       "    </tr>\n",
       "  </tbody>\n",
       "</table>\n",
       "<p>161 rows × 8 columns</p>\n",
       "</div>"
      ],
      "text/plain": [
       "     year        category category_name  count  weighted_count  percent  \\\n",
       "0    2012           Total         Total   1920             NaN    11.74   \n",
       "1    2012             Sex          Male    561       1116664.0     8.12   \n",
       "2    2012             Sex        Female   1359       2163108.0    15.25   \n",
       "3    2012  Race-Ethnicity         White   1314       1806371.0    14.57   \n",
       "4    2012  Race-Ethnicity         Black     97        222022.0    13.54   \n",
       "..    ...             ...           ...    ...             ...      ...   \n",
       "156  2018             Age      18 to 34    496       1623933.0    17.69   \n",
       "157  2018             Age      35 to 44    285        749615.0    14.56   \n",
       "158  2018             Age      45 to 54    301       1052945.0    20.06   \n",
       "159  2018             Age      55 to 64    432        854201.0    21.44   \n",
       "160  2018             Age     65+ years    450        661974.0    15.60   \n",
       "\n",
       "     lower_cl  upper_cl  \n",
       "0       11.11     12.37  \n",
       "1        7.32      8.92  \n",
       "2       14.30     16.20  \n",
       "3       13.67     15.46  \n",
       "4       10.44     16.65  \n",
       "..        ...       ...  \n",
       "156     13.72     21.66  \n",
       "157     10.91     18.21  \n",
       "158     15.60     24.52  \n",
       "159     17.65     25.23  \n",
       "160     13.42     17.78  \n",
       "\n",
       "[161 rows x 8 columns]"
      ]
     },
     "execution_count": 3,
     "metadata": {},
     "output_type": "execute_result"
    }
   ],
   "source": [
    "depress_df"
   ]
  },
  {
   "cell_type": "code",
   "execution_count": 4,
   "metadata": {},
   "outputs": [
    {
     "data": {
      "text/html": [
       "<div>\n",
       "<style scoped>\n",
       "    .dataframe tbody tr th:only-of-type {\n",
       "        vertical-align: middle;\n",
       "    }\n",
       "\n",
       "    .dataframe tbody tr th {\n",
       "        vertical-align: top;\n",
       "    }\n",
       "\n",
       "    .dataframe thead th {\n",
       "        text-align: right;\n",
       "    }\n",
       "</style>\n",
       "<table border=\"1\" class=\"dataframe\">\n",
       "  <thead>\n",
       "    <tr style=\"text-align: right;\">\n",
       "      <th></th>\n",
       "      <th>year</th>\n",
       "      <th>category</th>\n",
       "      <th>category_name</th>\n",
       "      <th>count</th>\n",
       "      <th>weighted_count</th>\n",
       "      <th>percent</th>\n",
       "      <th>lower_cl</th>\n",
       "      <th>upper_cl</th>\n",
       "    </tr>\n",
       "  </thead>\n",
       "  <tbody>\n",
       "    <tr>\n",
       "      <th>0</th>\n",
       "      <td>2012</td>\n",
       "      <td>Total</td>\n",
       "      <td>Total</td>\n",
       "      <td>1920</td>\n",
       "      <td>NaN</td>\n",
       "      <td>11.74</td>\n",
       "      <td>11.11</td>\n",
       "      <td>12.37</td>\n",
       "    </tr>\n",
       "    <tr>\n",
       "      <th>1</th>\n",
       "      <td>2012</td>\n",
       "      <td>Sex</td>\n",
       "      <td>Male</td>\n",
       "      <td>561</td>\n",
       "      <td>1116664.0</td>\n",
       "      <td>8.12</td>\n",
       "      <td>7.32</td>\n",
       "      <td>8.92</td>\n",
       "    </tr>\n",
       "    <tr>\n",
       "      <th>2</th>\n",
       "      <td>2012</td>\n",
       "      <td>Sex</td>\n",
       "      <td>Female</td>\n",
       "      <td>1359</td>\n",
       "      <td>2163108.0</td>\n",
       "      <td>15.25</td>\n",
       "      <td>14.30</td>\n",
       "      <td>16.20</td>\n",
       "    </tr>\n",
       "    <tr>\n",
       "      <th>3</th>\n",
       "      <td>2012</td>\n",
       "      <td>Race-Ethnicity</td>\n",
       "      <td>White</td>\n",
       "      <td>1314</td>\n",
       "      <td>1806371.0</td>\n",
       "      <td>14.57</td>\n",
       "      <td>13.67</td>\n",
       "      <td>15.46</td>\n",
       "    </tr>\n",
       "    <tr>\n",
       "      <th>4</th>\n",
       "      <td>2012</td>\n",
       "      <td>Race-Ethnicity</td>\n",
       "      <td>Black</td>\n",
       "      <td>97</td>\n",
       "      <td>222022.0</td>\n",
       "      <td>13.54</td>\n",
       "      <td>10.44</td>\n",
       "      <td>16.65</td>\n",
       "    </tr>\n",
       "  </tbody>\n",
       "</table>\n",
       "</div>"
      ],
      "text/plain": [
       "   year        category category_name  count  weighted_count  percent  \\\n",
       "0  2012           Total         Total   1920             NaN    11.74   \n",
       "1  2012             Sex          Male    561       1116664.0     8.12   \n",
       "2  2012             Sex        Female   1359       2163108.0    15.25   \n",
       "3  2012  Race-Ethnicity         White   1314       1806371.0    14.57   \n",
       "4  2012  Race-Ethnicity         Black     97        222022.0    13.54   \n",
       "\n",
       "   lower_cl  upper_cl  \n",
       "0     11.11     12.37  \n",
       "1      7.32      8.92  \n",
       "2     14.30     16.20  \n",
       "3     13.67     15.46  \n",
       "4     10.44     16.65  "
      ]
     },
     "execution_count": 4,
     "metadata": {},
     "output_type": "execute_result"
    }
   ],
   "source": [
    "depress_df.head()"
   ]
  },
  {
   "cell_type": "code",
   "execution_count": 5,
   "metadata": {},
   "outputs": [
    {
     "data": {
      "text/html": [
       "<div>\n",
       "<style scoped>\n",
       "    .dataframe tbody tr th:only-of-type {\n",
       "        vertical-align: middle;\n",
       "    }\n",
       "\n",
       "    .dataframe tbody tr th {\n",
       "        vertical-align: top;\n",
       "    }\n",
       "\n",
       "    .dataframe thead th {\n",
       "        text-align: right;\n",
       "    }\n",
       "</style>\n",
       "<table border=\"1\" class=\"dataframe\">\n",
       "  <thead>\n",
       "    <tr style=\"text-align: right;\">\n",
       "      <th></th>\n",
       "      <th>year</th>\n",
       "      <th>category</th>\n",
       "      <th>category_name</th>\n",
       "      <th>count</th>\n",
       "      <th>weighted_count</th>\n",
       "      <th>percent</th>\n",
       "      <th>lower_cl</th>\n",
       "      <th>upper_cl</th>\n",
       "    </tr>\n",
       "  </thead>\n",
       "  <tbody>\n",
       "    <tr>\n",
       "      <th>46</th>\n",
       "      <td>2014</td>\n",
       "      <td>Total</td>\n",
       "      <td>Total</td>\n",
       "      <td>1309</td>\n",
       "      <td>NaN</td>\n",
       "      <td>13.30</td>\n",
       "      <td>12.29</td>\n",
       "      <td>14.31</td>\n",
       "    </tr>\n",
       "    <tr>\n",
       "      <th>100</th>\n",
       "      <td>2016</td>\n",
       "      <td>Education</td>\n",
       "      <td>No High School Diploma</td>\n",
       "      <td>208</td>\n",
       "      <td>381325.0</td>\n",
       "      <td>11.65</td>\n",
       "      <td>9.03</td>\n",
       "      <td>14.28</td>\n",
       "    </tr>\n",
       "    <tr>\n",
       "      <th>140</th>\n",
       "      <td>2018</td>\n",
       "      <td>Sex</td>\n",
       "      <td>Female</td>\n",
       "      <td>1206</td>\n",
       "      <td>3106910.0</td>\n",
       "      <td>21.96</td>\n",
       "      <td>19.08</td>\n",
       "      <td>24.84</td>\n",
       "    </tr>\n",
       "    <tr>\n",
       "      <th>109</th>\n",
       "      <td>2016</td>\n",
       "      <td>Income</td>\n",
       "      <td>$100,000+</td>\n",
       "      <td>263</td>\n",
       "      <td>903030.0</td>\n",
       "      <td>12.08</td>\n",
       "      <td>9.41</td>\n",
       "      <td>14.75</td>\n",
       "    </tr>\n",
       "    <tr>\n",
       "      <th>121</th>\n",
       "      <td>2017</td>\n",
       "      <td>Race-Ethnicity</td>\n",
       "      <td>Asian/Pacific Islander</td>\n",
       "      <td>67</td>\n",
       "      <td>227004.0</td>\n",
       "      <td>6.76</td>\n",
       "      <td>4.41</td>\n",
       "      <td>9.10</td>\n",
       "    </tr>\n",
       "    <tr>\n",
       "      <th>134</th>\n",
       "      <td>2017</td>\n",
       "      <td>Age</td>\n",
       "      <td>35 to 44</td>\n",
       "      <td>209</td>\n",
       "      <td>1007265.0</td>\n",
       "      <td>19.53</td>\n",
       "      <td>14.71</td>\n",
       "      <td>24.34</td>\n",
       "    </tr>\n",
       "    <tr>\n",
       "      <th>75</th>\n",
       "      <td>2015</td>\n",
       "      <td>Race-Ethnicity</td>\n",
       "      <td>Asian/Pacific Islander</td>\n",
       "      <td>58</td>\n",
       "      <td>139702.0</td>\n",
       "      <td>3.97</td>\n",
       "      <td>2.60</td>\n",
       "      <td>5.34</td>\n",
       "    </tr>\n",
       "    <tr>\n",
       "      <th>23</th>\n",
       "      <td>2013</td>\n",
       "      <td>Total</td>\n",
       "      <td>Total</td>\n",
       "      <td>1689</td>\n",
       "      <td>NaN</td>\n",
       "      <td>13.08</td>\n",
       "      <td>12.33</td>\n",
       "      <td>13.82</td>\n",
       "    </tr>\n",
       "    <tr>\n",
       "      <th>96</th>\n",
       "      <td>2016</td>\n",
       "      <td>Race-Ethnicity</td>\n",
       "      <td>Black</td>\n",
       "      <td>91</td>\n",
       "      <td>203913.0</td>\n",
       "      <td>13.55</td>\n",
       "      <td>9.15</td>\n",
       "      <td>17.96</td>\n",
       "    </tr>\n",
       "    <tr>\n",
       "      <th>8</th>\n",
       "      <td>2012</td>\n",
       "      <td>Education</td>\n",
       "      <td>No High School Diploma</td>\n",
       "      <td>282</td>\n",
       "      <td>579047.0</td>\n",
       "      <td>14.43</td>\n",
       "      <td>12.60</td>\n",
       "      <td>16.26</td>\n",
       "    </tr>\n",
       "    <tr>\n",
       "      <th>83</th>\n",
       "      <td>2015</td>\n",
       "      <td>Income</td>\n",
       "      <td>$35,000 - $49,999</td>\n",
       "      <td>155</td>\n",
       "      <td>335393.0</td>\n",
       "      <td>13.32</td>\n",
       "      <td>10.01</td>\n",
       "      <td>16.63</td>\n",
       "    </tr>\n",
       "    <tr>\n",
       "      <th>138</th>\n",
       "      <td>2018</td>\n",
       "      <td>Total</td>\n",
       "      <td>Total</td>\n",
       "      <td>1964</td>\n",
       "      <td>NaN</td>\n",
       "      <td>17.78</td>\n",
       "      <td>15.96</td>\n",
       "      <td>19.59</td>\n",
       "    </tr>\n",
       "    <tr>\n",
       "      <th>20</th>\n",
       "      <td>2012</td>\n",
       "      <td>Age</td>\n",
       "      <td>45 to 54</td>\n",
       "      <td>409</td>\n",
       "      <td>770238.0</td>\n",
       "      <td>14.67</td>\n",
       "      <td>13.14</td>\n",
       "      <td>16.20</td>\n",
       "    </tr>\n",
       "    <tr>\n",
       "      <th>26</th>\n",
       "      <td>2013</td>\n",
       "      <td>Race-Ethnicity</td>\n",
       "      <td>White</td>\n",
       "      <td>1103</td>\n",
       "      <td>1979888.0</td>\n",
       "      <td>15.97</td>\n",
       "      <td>14.91</td>\n",
       "      <td>17.02</td>\n",
       "    </tr>\n",
       "    <tr>\n",
       "      <th>61</th>\n",
       "      <td>2014</td>\n",
       "      <td>Income</td>\n",
       "      <td>$50,000 - $74,999</td>\n",
       "      <td>107</td>\n",
       "      <td>283214.0</td>\n",
       "      <td>10.28</td>\n",
       "      <td>7.84</td>\n",
       "      <td>12.72</td>\n",
       "    </tr>\n",
       "  </tbody>\n",
       "</table>\n",
       "</div>"
      ],
      "text/plain": [
       "     year        category           category_name  count  weighted_count  \\\n",
       "46   2014           Total                   Total   1309             NaN   \n",
       "100  2016       Education  No High School Diploma    208        381325.0   \n",
       "140  2018             Sex                  Female   1206       3106910.0   \n",
       "109  2016          Income               $100,000+    263        903030.0   \n",
       "121  2017  Race-Ethnicity  Asian/Pacific Islander     67        227004.0   \n",
       "134  2017             Age                35 to 44    209       1007265.0   \n",
       "75   2015  Race-Ethnicity  Asian/Pacific Islander     58        139702.0   \n",
       "23   2013           Total                   Total   1689             NaN   \n",
       "96   2016  Race-Ethnicity                   Black     91        203913.0   \n",
       "8    2012       Education  No High School Diploma    282        579047.0   \n",
       "83   2015          Income       $35,000 - $49,999    155        335393.0   \n",
       "138  2018           Total                   Total   1964             NaN   \n",
       "20   2012             Age                45 to 54    409        770238.0   \n",
       "26   2013  Race-Ethnicity                   White   1103       1979888.0   \n",
       "61   2014          Income       $50,000 - $74,999    107        283214.0   \n",
       "\n",
       "     percent  lower_cl  upper_cl  \n",
       "46     13.30     12.29     14.31  \n",
       "100    11.65      9.03     14.28  \n",
       "140    21.96     19.08     24.84  \n",
       "109    12.08      9.41     14.75  \n",
       "121     6.76      4.41      9.10  \n",
       "134    19.53     14.71     24.34  \n",
       "75      3.97      2.60      5.34  \n",
       "23     13.08     12.33     13.82  \n",
       "96     13.55      9.15     17.96  \n",
       "8      14.43     12.60     16.26  \n",
       "83     13.32     10.01     16.63  \n",
       "138    17.78     15.96     19.59  \n",
       "20     14.67     13.14     16.20  \n",
       "26     15.97     14.91     17.02  \n",
       "61     10.28      7.84     12.72  "
      ]
     },
     "execution_count": 5,
     "metadata": {},
     "output_type": "execute_result"
    }
   ],
   "source": [
    "depress_df.sample(15)"
   ]
  },
  {
   "cell_type": "code",
   "execution_count": 6,
   "metadata": {},
   "outputs": [
    {
     "name": "stdout",
     "output_type": "stream",
     "text": [
      "<class 'pandas.core.frame.DataFrame'>\n",
      "RangeIndex: 161 entries, 0 to 160\n",
      "Data columns (total 8 columns):\n",
      " #   Column          Non-Null Count  Dtype  \n",
      "---  ------          --------------  -----  \n",
      " 0   year            161 non-null    int64  \n",
      " 1   category        161 non-null    object \n",
      " 2   category_name   161 non-null    object \n",
      " 3   count           161 non-null    int64  \n",
      " 4   weighted_count  154 non-null    float64\n",
      " 5   percent         161 non-null    float64\n",
      " 6   lower_cl        161 non-null    float64\n",
      " 7   upper_cl        161 non-null    float64\n",
      "dtypes: float64(4), int64(2), object(2)\n",
      "memory usage: 10.2+ KB\n"
     ]
    }
   ],
   "source": [
    "depress_df.info()"
   ]
  },
  {
   "cell_type": "code",
   "execution_count": 7,
   "metadata": {},
   "outputs": [
    {
     "data": {
      "text/plain": [
       "array([2012, 2013, 2014, 2015, 2016, 2017, 2018])"
      ]
     },
     "execution_count": 7,
     "metadata": {},
     "output_type": "execute_result"
    }
   ],
   "source": [
    "depress_df['year'].unique()"
   ]
  },
  {
   "cell_type": "code",
   "execution_count": 8,
   "metadata": {},
   "outputs": [
    {
     "data": {
      "text/plain": [
       "2018    23\n",
       "2017    23\n",
       "2016    23\n",
       "2015    23\n",
       "2014    23\n",
       "2013    23\n",
       "2012    23\n",
       "Name: year, dtype: int64"
      ]
     },
     "execution_count": 8,
     "metadata": {},
     "output_type": "execute_result"
    }
   ],
   "source": [
    "# I want to find out how many categories there are for each year:\n",
    "\n",
    "depress_df['year'].value_counts()"
   ]
  },
  {
   "cell_type": "code",
   "execution_count": 9,
   "metadata": {},
   "outputs": [
    {
     "data": {
      "text/plain": [
       "array(['Total', 'Sex', 'Race-Ethnicity', 'Education', 'Income', 'Age'],\n",
       "      dtype=object)"
      ]
     },
     "execution_count": 9,
     "metadata": {},
     "output_type": "execute_result"
    }
   ],
   "source": [
    "depress_df['category'].unique()"
   ]
  },
  {
   "cell_type": "markdown",
   "metadata": {},
   "source": [
    "* To reiterate, we have information on each year from 2012 to 2018.\n",
    "* It looks like we have data on 23 different categories (represented by 23 rows) for each year."
   ]
  },
  {
   "cell_type": "code",
   "execution_count": 10,
   "metadata": {},
   "outputs": [
    {
     "data": {
      "text/plain": [
       "69194"
      ]
     },
     "execution_count": 10,
     "metadata": {},
     "output_type": "execute_result"
    }
   ],
   "source": [
    "# Total people across all the years who had depression:\n",
    "\n",
    "depress_df['count'].sum()"
   ]
  },
  {
   "cell_type": "code",
   "execution_count": 11,
   "metadata": {},
   "outputs": [
    {
     "data": {
      "text/plain": [
       "14.789627329192541"
      ]
     },
     "execution_count": 11,
     "metadata": {},
     "output_type": "execute_result"
    }
   ],
   "source": [
    "# Percentage of people in each category is more meaningful\n",
    "# data that allows us to make comparisons:\n",
    "\n",
    "depress_df['percent'].mean()"
   ]
  },
  {
   "cell_type": "markdown",
   "metadata": {},
   "source": [
    "* I think the percentages of depression among the diverse categories of people will give us a better idea into the rates of depression with adults in CA rather than the count, because the percentages give us proportion data, which we can use to make internal comparisons in our data and help with our analysis."
   ]
  },
  {
   "cell_type": "code",
   "execution_count": 12,
   "metadata": {},
   "outputs": [
    {
     "data": {
      "text/plain": [
       "array(['Total', 'Sex', 'Race-Ethnicity', 'Education', 'Income', 'Age'],\n",
       "      dtype=object)"
      ]
     },
     "execution_count": 12,
     "metadata": {},
     "output_type": "execute_result"
    }
   ],
   "source": [
    "# What are the unique columns we have?\n",
    "\n",
    "depress_df['category'].unique()"
   ]
  },
  {
   "cell_type": "markdown",
   "metadata": {},
   "source": [
    "* We have 6 categories, total for all the rows, Sex (M/F), Race-Ethnicity, Education, Income, and Age. I want to find out more information about specific levels under each category.\n",
    "* Again, we know from the value_counts function above that for each year, there are 23 different category names. Let's find out what these groups are!"
   ]
  },
  {
   "cell_type": "code",
   "execution_count": 13,
   "metadata": {},
   "outputs": [
    {
     "data": {
      "text/plain": [
       "array(['Total', 'Male', 'Female', 'White', 'Black', 'Hispanic',\n",
       "       'Asian/Pacific Islander', 'Other', 'No High School Diploma',\n",
       "       'High School Graduate or GED Certificate',\n",
       "       'Some College or Tech School', 'College Graduate or Post Grad',\n",
       "       '< $20,000', '$20,000 - $34,999', '$35,000 - $49,999',\n",
       "       '$50,000 - $74,999', '$75,000 - $99,999', '$100,000+', '18 to 34',\n",
       "       '35 to 44', '45 to 54', '55 to 64', '65+ years'], dtype=object)"
      ]
     },
     "execution_count": 13,
     "metadata": {},
     "output_type": "execute_result"
    }
   ],
   "source": [
    "# Unique groups we have data on:\n",
    "\n",
    "depress_df['category_name'].unique()"
   ]
  },
  {
   "cell_type": "markdown",
   "metadata": {},
   "source": [
    "One thing to note is that we have a \"Total\" tab for all of the years. This will allow us to compare the Total amount of people across the categories who were told they had a depressive disorder."
   ]
  },
  {
   "cell_type": "code",
   "execution_count": 14,
   "metadata": {},
   "outputs": [
    {
     "data": {
      "text/html": [
       "<div>\n",
       "<style scoped>\n",
       "    .dataframe tbody tr th:only-of-type {\n",
       "        vertical-align: middle;\n",
       "    }\n",
       "\n",
       "    .dataframe tbody tr th {\n",
       "        vertical-align: top;\n",
       "    }\n",
       "\n",
       "    .dataframe thead th {\n",
       "        text-align: right;\n",
       "    }\n",
       "</style>\n",
       "<table border=\"1\" class=\"dataframe\">\n",
       "  <thead>\n",
       "    <tr style=\"text-align: right;\">\n",
       "      <th></th>\n",
       "      <th></th>\n",
       "      <th></th>\n",
       "      <th>percent</th>\n",
       "    </tr>\n",
       "    <tr>\n",
       "      <th>year</th>\n",
       "      <th>category</th>\n",
       "      <th>category_name</th>\n",
       "      <th></th>\n",
       "    </tr>\n",
       "  </thead>\n",
       "  <tbody>\n",
       "    <tr>\n",
       "      <th rowspan=\"5\" valign=\"top\">2012</th>\n",
       "      <th rowspan=\"5\" valign=\"top\">Age</th>\n",
       "      <th>18 to 34</th>\n",
       "      <td>7.63</td>\n",
       "    </tr>\n",
       "    <tr>\n",
       "      <th>35 to 44</th>\n",
       "      <td>11.13</td>\n",
       "    </tr>\n",
       "    <tr>\n",
       "      <th>45 to 54</th>\n",
       "      <td>14.67</td>\n",
       "    </tr>\n",
       "    <tr>\n",
       "      <th>55 to 64</th>\n",
       "      <td>17.19</td>\n",
       "    </tr>\n",
       "    <tr>\n",
       "      <th>65+ years</th>\n",
       "      <td>12.63</td>\n",
       "    </tr>\n",
       "    <tr>\n",
       "      <th>...</th>\n",
       "      <th>...</th>\n",
       "      <th>...</th>\n",
       "      <td>...</td>\n",
       "    </tr>\n",
       "    <tr>\n",
       "      <th rowspan=\"5\" valign=\"top\">2018</th>\n",
       "      <th rowspan=\"2\" valign=\"top\">Race-Ethnicity</th>\n",
       "      <th>Other</th>\n",
       "      <td>26.04</td>\n",
       "    </tr>\n",
       "    <tr>\n",
       "      <th>White</th>\n",
       "      <td>21.54</td>\n",
       "    </tr>\n",
       "    <tr>\n",
       "      <th rowspan=\"2\" valign=\"top\">Sex</th>\n",
       "      <th>Female</th>\n",
       "      <td>21.96</td>\n",
       "    </tr>\n",
       "    <tr>\n",
       "      <th>Male</th>\n",
       "      <td>13.44</td>\n",
       "    </tr>\n",
       "    <tr>\n",
       "      <th>Total</th>\n",
       "      <th>Total</th>\n",
       "      <td>17.78</td>\n",
       "    </tr>\n",
       "  </tbody>\n",
       "</table>\n",
       "<p>161 rows × 1 columns</p>\n",
       "</div>"
      ],
      "text/plain": [
       "                                   percent\n",
       "year category       category_name         \n",
       "2012 Age            18 to 34          7.63\n",
       "                    35 to 44         11.13\n",
       "                    45 to 54         14.67\n",
       "                    55 to 64         17.19\n",
       "                    65+ years        12.63\n",
       "...                                    ...\n",
       "2018 Race-Ethnicity Other            26.04\n",
       "                    White            21.54\n",
       "     Sex            Female           21.96\n",
       "                    Male             13.44\n",
       "     Total          Total            17.78\n",
       "\n",
       "[161 rows x 1 columns]"
      ]
     },
     "execution_count": 14,
     "metadata": {},
     "output_type": "execute_result"
    }
   ],
   "source": [
    "# To get the percentages of people with depression for each category:\n",
    "\n",
    "\n",
    "depress_df.groupby(['year','category','category_name'])['percent'].mean().to_frame()"
   ]
  },
  {
   "cell_type": "markdown",
   "metadata": {},
   "source": [
    "* This .groupby function is helpful in our analysis because it allows me to understand quickly which specific categories (across different income brackets, ages, race-ethnicities, and highest education level) had relatively high or low depression rates.\n",
    "* One important thing to note here is that the percentages are based on dividing the amount of people in each separate category name by the Total amount of people who were told they had depression IN THAT YEAR. This means that the percentages are all based on that year's total count. \n",
    "\n",
    "Surveying the data above, some key observations that I want to include:\n",
    "\n",
    "1) Females have higher depression rates than males (about 18% compared to 11%, respectively);\n",
    "\n",
    "2) Depression rates seem to increase with age, before dropping off for 65+ years of age;\n",
    "\n",
    "3) The race-ethnicity categorized as \"Other\" has the highest depression rates among the races, but this could be because races or ethnicities that are not part of the major ones (Asian, Black, Hispanic, White) are all grouped together into the \"Other\" category. \n",
    "\n",
    "4) Asian/Pacific Islanders reported the absolute lowest percentage of depression in this data frame."
   ]
  },
  {
   "cell_type": "markdown",
   "metadata": {},
   "source": [
    "There are lots of different category levels. I am particularly interested in the Sex and Age, because of my previous knowledge on learning in various Psych classes that on average, females tend to experience higher levels of depression than males. With age, I want to guess that younger generations, perhaps in the 18-24 age range, would experience higher depression rates, but let's find out! Before we go into any sex or age filters on our data set, first I want to start with historically, how depression rates have changed. Let's get into it:"
   ]
  },
  {
   "cell_type": "markdown",
   "metadata": {},
   "source": [
    "## How have depression rates changed over the years?\n",
    "Before I go into more specific categories, one question I want to ask is how many total people experienced depression in each year? \n",
    "\n",
    "To do this, I will take filter the rows by the total amount of people with depression, get the percentage of each of those rows, and plot them with a bar graph to display any historical trends in depression percentages from 2012 to 2018 in CA:"
   ]
  },
  {
   "cell_type": "code",
   "execution_count": 15,
   "metadata": {},
   "outputs": [
    {
     "data": {
      "text/html": [
       "<div>\n",
       "<style scoped>\n",
       "    .dataframe tbody tr th:only-of-type {\n",
       "        vertical-align: middle;\n",
       "    }\n",
       "\n",
       "    .dataframe tbody tr th {\n",
       "        vertical-align: top;\n",
       "    }\n",
       "\n",
       "    .dataframe thead th {\n",
       "        text-align: right;\n",
       "    }\n",
       "</style>\n",
       "<table border=\"1\" class=\"dataframe\">\n",
       "  <thead>\n",
       "    <tr style=\"text-align: right;\">\n",
       "      <th></th>\n",
       "      <th>year</th>\n",
       "      <th>count</th>\n",
       "    </tr>\n",
       "  </thead>\n",
       "  <tbody>\n",
       "    <tr>\n",
       "      <th>0</th>\n",
       "      <td>2012</td>\n",
       "      <td>1920</td>\n",
       "    </tr>\n",
       "    <tr>\n",
       "      <th>23</th>\n",
       "      <td>2013</td>\n",
       "      <td>1689</td>\n",
       "    </tr>\n",
       "    <tr>\n",
       "      <th>46</th>\n",
       "      <td>2014</td>\n",
       "      <td>1309</td>\n",
       "    </tr>\n",
       "    <tr>\n",
       "      <th>69</th>\n",
       "      <td>2015</td>\n",
       "      <td>1848</td>\n",
       "    </tr>\n",
       "    <tr>\n",
       "      <th>92</th>\n",
       "      <td>2016</td>\n",
       "      <td>1645</td>\n",
       "    </tr>\n",
       "    <tr>\n",
       "      <th>115</th>\n",
       "      <td>2017</td>\n",
       "      <td>1550</td>\n",
       "    </tr>\n",
       "    <tr>\n",
       "      <th>138</th>\n",
       "      <td>2018</td>\n",
       "      <td>1964</td>\n",
       "    </tr>\n",
       "  </tbody>\n",
       "</table>\n",
       "</div>"
      ],
      "text/plain": [
       "     year  count\n",
       "0    2012   1920\n",
       "23   2013   1689\n",
       "46   2014   1309\n",
       "69   2015   1848\n",
       "92   2016   1645\n",
       "115  2017   1550\n",
       "138  2018   1964"
      ]
     },
     "execution_count": 15,
     "metadata": {},
     "output_type": "execute_result"
    }
   ],
   "source": [
    "depress_df[depress_df['category']=='Total'][['year', 'count']]"
   ]
  },
  {
   "cell_type": "markdown",
   "metadata": {},
   "source": [
    "So here we have a small table showing us only the count columns for the \"Total\" category over the 7 years. Across all the different 22 categories we have (23 - 1 since \"Total\" is always included), 2018 had the highest amount of people who reported they were once told they have depressive disorder, closely followed by 2012 and then 2015, and the rest of the years falling behind that. "
   ]
  },
  {
   "cell_type": "code",
   "execution_count": 16,
   "metadata": {},
   "outputs": [
    {
     "data": {
      "text/html": [
       "<div>\n",
       "<style scoped>\n",
       "    .dataframe tbody tr th:only-of-type {\n",
       "        vertical-align: middle;\n",
       "    }\n",
       "\n",
       "    .dataframe tbody tr th {\n",
       "        vertical-align: top;\n",
       "    }\n",
       "\n",
       "    .dataframe thead th {\n",
       "        text-align: right;\n",
       "    }\n",
       "</style>\n",
       "<table border=\"1\" class=\"dataframe\">\n",
       "  <thead>\n",
       "    <tr style=\"text-align: right;\">\n",
       "      <th></th>\n",
       "      <th>year</th>\n",
       "      <th>percent</th>\n",
       "    </tr>\n",
       "  </thead>\n",
       "  <tbody>\n",
       "    <tr>\n",
       "      <th>0</th>\n",
       "      <td>2012</td>\n",
       "      <td>11.74</td>\n",
       "    </tr>\n",
       "    <tr>\n",
       "      <th>23</th>\n",
       "      <td>2013</td>\n",
       "      <td>13.08</td>\n",
       "    </tr>\n",
       "    <tr>\n",
       "      <th>46</th>\n",
       "      <td>2014</td>\n",
       "      <td>13.30</td>\n",
       "    </tr>\n",
       "    <tr>\n",
       "      <th>69</th>\n",
       "      <td>2015</td>\n",
       "      <td>12.92</td>\n",
       "    </tr>\n",
       "    <tr>\n",
       "      <th>92</th>\n",
       "      <td>2016</td>\n",
       "      <td>13.77</td>\n",
       "    </tr>\n",
       "    <tr>\n",
       "      <th>115</th>\n",
       "      <td>2017</td>\n",
       "      <td>19.04</td>\n",
       "    </tr>\n",
       "    <tr>\n",
       "      <th>138</th>\n",
       "      <td>2018</td>\n",
       "      <td>17.78</td>\n",
       "    </tr>\n",
       "  </tbody>\n",
       "</table>\n",
       "</div>"
      ],
      "text/plain": [
       "     year  percent\n",
       "0    2012    11.74\n",
       "23   2013    13.08\n",
       "46   2014    13.30\n",
       "69   2015    12.92\n",
       "92   2016    13.77\n",
       "115  2017    19.04\n",
       "138  2018    17.78"
      ]
     },
     "execution_count": 16,
     "metadata": {},
     "output_type": "execute_result"
    }
   ],
   "source": [
    "depress_df[depress_df['category']=='Total'][['year', 'percent']]"
   ]
  },
  {
   "cell_type": "markdown",
   "metadata": {},
   "source": [
    "With this table, I wanted to look strictly at the depression percentages for the Total number of respondents throughout the years. It's increased overall, from 11.74% to 17.78%, and what's especially notable is that there was a big spike from 2016 to 2017 (13.77% up to 19.04%). Even though we see a slight decrease between the last two years, there's still an overall gradual uptrend. \n",
    "\n",
    "If I want to look at this on a plot, I'll go into creating a Total filter, so that we can visually show the differences in depression rates over the 7 years:"
   ]
  },
  {
   "cell_type": "code",
   "execution_count": 52,
   "metadata": {},
   "outputs": [
    {
     "name": "stderr",
     "output_type": "stream",
     "text": [
      "/usr/local/anaconda3/lib/python3.7/site-packages/pandas/plotting/_matplotlib/core.py:584: UserWarning: The handle <BarContainer object of 7 artists> has a label of '_nolegend_' which cannot be automatically added to the legend.\n",
      "  ax.legend(handles, labels, loc=\"best\", title=title)\n"
     ]
    },
    {
     "data": {
      "text/plain": [
       "(array([0, 1, 2, 3, 4, 5, 6]),\n",
       " [Text(0, 0, '2012'),\n",
       "  Text(1, 0, '2013'),\n",
       "  Text(2, 0, '2014'),\n",
       "  Text(3, 0, '2015'),\n",
       "  Text(4, 0, '2016'),\n",
       "  Text(5, 0, '2017'),\n",
       "  Text(6, 0, '2018')])"
      ]
     },
     "execution_count": 52,
     "metadata": {},
     "output_type": "execute_result"
    },
    {
     "data": {
      "image/png": "[encoded data removed]",
      "text/plain": [
       "<Figure size 432x288 with 1 Axes>"
      ]
     },
     "metadata": {
      "needs_background": "light"
     },
     "output_type": "display_data"
    }
   ],
   "source": [
    "# Using the filter for Total adult depression percentages by row:\n",
    "\n",
    "total_filter = depress_df['category']=='Total'\n",
    "\n",
    "total_depress_df = depress_df[total_filter]\n",
    "\n",
    "total_depress_df.plot(kind='bar',\n",
    "                              x='year', \n",
    "                              y='percent',\n",
    "                              yerr=((total_depress_df['upper_cl']-total_depress_df['percent'], \n",
    "                                     total_depress_df['percent']-total_depress_df['lower_cl']),\n",
    "                                   ),\n",
    "                              capsize=2,\n",
    "                              label='_nolegend_'\n",
    "                              )\n",
    "plt.title('Change in Adult Depression Percentages from 2012 to 2018 in California')\n",
    "plt.xlabel('Year')\n",
    "plt.ylabel('Percent')\n",
    "\n",
    "# Rotating the xticks for years so the labels are horizontal and easier to read:\n",
    "plt.xticks(rotation=0, ha='center')"
   ]
  },
  {
   "cell_type": "markdown",
   "metadata": {},
   "source": [
    "### Observations:\n",
    "\n",
    "* The depression percentages range from around 11.5% to 17.5% from the first year to the last year.\n",
    "* From this data and bar plot, if we look at the overall trends, it appears that depression rates have been increased from 2012 to 2018.\n",
    "* It's important to note that 2017 reported the highest adult depression percentages, and I'm wondering if there might be a reason for that? Why was there a big jump from 2016 to 2017?\n",
    "\n",
    "Now that we know some of the historical trends in adult depression percentages in CA, I am curious about more specific categories. Let's get into the sex and age filters!\n",
    "\n",
    "## Are there differences in depression rates among males and females?"
   ]
  },
  {
   "cell_type": "code",
   "execution_count": 18,
   "metadata": {},
   "outputs": [
    {
     "data": {
      "text/html": [
       "<div>\n",
       "<style scoped>\n",
       "    .dataframe tbody tr th:only-of-type {\n",
       "        vertical-align: middle;\n",
       "    }\n",
       "\n",
       "    .dataframe tbody tr th {\n",
       "        vertical-align: top;\n",
       "    }\n",
       "\n",
       "    .dataframe thead th {\n",
       "        text-align: right;\n",
       "    }\n",
       "</style>\n",
       "<table border=\"1\" class=\"dataframe\">\n",
       "  <thead>\n",
       "    <tr style=\"text-align: right;\">\n",
       "      <th>category_name</th>\n",
       "      <th>Female</th>\n",
       "      <th>Male</th>\n",
       "    </tr>\n",
       "    <tr>\n",
       "      <th>year</th>\n",
       "      <th></th>\n",
       "      <th></th>\n",
       "    </tr>\n",
       "  </thead>\n",
       "  <tbody>\n",
       "    <tr>\n",
       "      <th>2012</th>\n",
       "      <td>15.25</td>\n",
       "      <td>8.12</td>\n",
       "    </tr>\n",
       "    <tr>\n",
       "      <th>2013</th>\n",
       "      <td>16.52</td>\n",
       "      <td>9.53</td>\n",
       "    </tr>\n",
       "    <tr>\n",
       "      <th>2014</th>\n",
       "      <td>16.03</td>\n",
       "      <td>10.46</td>\n",
       "    </tr>\n",
       "    <tr>\n",
       "      <th>2015</th>\n",
       "      <td>16.01</td>\n",
       "      <td>9.73</td>\n",
       "    </tr>\n",
       "    <tr>\n",
       "      <th>2016</th>\n",
       "      <td>16.09</td>\n",
       "      <td>11.38</td>\n",
       "    </tr>\n",
       "    <tr>\n",
       "      <th>2017</th>\n",
       "      <td>23.33</td>\n",
       "      <td>14.61</td>\n",
       "    </tr>\n",
       "    <tr>\n",
       "      <th>2018</th>\n",
       "      <td>21.96</td>\n",
       "      <td>13.44</td>\n",
       "    </tr>\n",
       "  </tbody>\n",
       "</table>\n",
       "</div>"
      ],
      "text/plain": [
       "category_name  Female   Male\n",
       "year                        \n",
       "2012            15.25   8.12\n",
       "2013            16.52   9.53\n",
       "2014            16.03  10.46\n",
       "2015            16.01   9.73\n",
       "2016            16.09  11.38\n",
       "2017            23.33  14.61\n",
       "2018            21.96  13.44"
      ]
     },
     "execution_count": 18,
     "metadata": {},
     "output_type": "execute_result"
    }
   ],
   "source": [
    "# Instead of the total filter, I want to do the same thing with the sex filter\n",
    "# to determine if males and females experience different depression rates:\n",
    "\n",
    "sex_filter = depress_df['category']=='Sex'\n",
    "\n",
    "sex_depress_df = depress_df[sex_filter]\n",
    "\n",
    "# To obtain 2 columns with depression percentages for females and males:\n",
    "\n",
    "sex_grouped_df = sex_depress_df.groupby(['year','category_name'])['percent'].sum().unstack()\n",
    "\n",
    "sex_grouped_df"
   ]
  },
  {
   "cell_type": "markdown",
   "metadata": {},
   "source": [
    "### Observations:\n",
    "\n",
    "* From this table, it looks like for every single year, females reported higher depression percentages than males. \n",
    "* For both sexes, there was a bigger increase between 2016 and 2017 than between any other years, which is consistent with what we found earlier with the total depression percentages spiking in 2017.\n",
    "* For females, the depression percentages range from 15.25% to 21.96%, whereas for males, the percentages range from 8.12% to 13.44%.\n",
    "* These findings are consistent with my hypothesis that females experience higher depression rates than males.\n",
    "\n",
    "Now, I want to put this information into a visual bar graph:"
   ]
  },
  {
   "cell_type": "code",
   "execution_count": 19,
   "metadata": {},
   "outputs": [
    {
     "data": {
      "text/plain": [
       "<AxesSubplot:xlabel='year'>"
      ]
     },
     "execution_count": 19,
     "metadata": {},
     "output_type": "execute_result"
    },
    {
     "data": {
      "image/png": "[encoded data removed]",
      "text/plain": [
       "<Figure size 432x288 with 1 Axes>"
      ]
     },
     "metadata": {
      "needs_background": "light"
     },
     "output_type": "display_data"
    }
   ],
   "source": [
    "# To produce a grouped bar plot\n",
    "\n",
    "sex_grouped_df.plot(kind='bar')"
   ]
  },
  {
   "cell_type": "markdown",
   "metadata": {},
   "source": [
    "* We can clearly see from the higher blue bars that females experienced higher levels of depression than males for all 7 years. "
   ]
  },
  {
   "cell_type": "markdown",
   "metadata": {},
   "source": [
    "I am curious about the differences in depression rates among various age groups, so we will analyze that now:\n",
    "\n",
    "## Are there differences in depression rates among age groups?\n",
    "* Doing the same thing to plot the data, using an age filter this time:"
   ]
  },
  {
   "cell_type": "code",
   "execution_count": 20,
   "metadata": {},
   "outputs": [
    {
     "data": {
      "text/html": [
       "<div>\n",
       "<style scoped>\n",
       "    .dataframe tbody tr th:only-of-type {\n",
       "        vertical-align: middle;\n",
       "    }\n",
       "\n",
       "    .dataframe tbody tr th {\n",
       "        vertical-align: top;\n",
       "    }\n",
       "\n",
       "    .dataframe thead th {\n",
       "        text-align: right;\n",
       "    }\n",
       "</style>\n",
       "<table border=\"1\" class=\"dataframe\">\n",
       "  <thead>\n",
       "    <tr style=\"text-align: right;\">\n",
       "      <th>category_name</th>\n",
       "      <th>18 to 34</th>\n",
       "      <th>35 to 44</th>\n",
       "      <th>45 to 54</th>\n",
       "      <th>55 to 64</th>\n",
       "      <th>65+ years</th>\n",
       "    </tr>\n",
       "    <tr>\n",
       "      <th>year</th>\n",
       "      <th></th>\n",
       "      <th></th>\n",
       "      <th></th>\n",
       "      <th></th>\n",
       "      <th></th>\n",
       "    </tr>\n",
       "  </thead>\n",
       "  <tbody>\n",
       "    <tr>\n",
       "      <th>2012</th>\n",
       "      <td>7.63</td>\n",
       "      <td>11.13</td>\n",
       "      <td>14.67</td>\n",
       "      <td>17.19</td>\n",
       "      <td>12.63</td>\n",
       "    </tr>\n",
       "    <tr>\n",
       "      <th>2013</th>\n",
       "      <td>9.96</td>\n",
       "      <td>10.42</td>\n",
       "      <td>16.81</td>\n",
       "      <td>18.39</td>\n",
       "      <td>13.41</td>\n",
       "    </tr>\n",
       "    <tr>\n",
       "      <th>2014</th>\n",
       "      <td>10.18</td>\n",
       "      <td>12.45</td>\n",
       "      <td>14.62</td>\n",
       "      <td>19.91</td>\n",
       "      <td>13.19</td>\n",
       "    </tr>\n",
       "    <tr>\n",
       "      <th>2015</th>\n",
       "      <td>9.81</td>\n",
       "      <td>14.21</td>\n",
       "      <td>13.27</td>\n",
       "      <td>16.99</td>\n",
       "      <td>13.85</td>\n",
       "    </tr>\n",
       "    <tr>\n",
       "      <th>2016</th>\n",
       "      <td>11.84</td>\n",
       "      <td>11.85</td>\n",
       "      <td>14.59</td>\n",
       "      <td>18.65</td>\n",
       "      <td>14.61</td>\n",
       "    </tr>\n",
       "    <tr>\n",
       "      <th>2017</th>\n",
       "      <td>19.80</td>\n",
       "      <td>19.53</td>\n",
       "      <td>16.40</td>\n",
       "      <td>22.32</td>\n",
       "      <td>16.94</td>\n",
       "    </tr>\n",
       "    <tr>\n",
       "      <th>2018</th>\n",
       "      <td>17.69</td>\n",
       "      <td>14.56</td>\n",
       "      <td>20.06</td>\n",
       "      <td>21.44</td>\n",
       "      <td>15.60</td>\n",
       "    </tr>\n",
       "  </tbody>\n",
       "</table>\n",
       "</div>"
      ],
      "text/plain": [
       "category_name  18 to 34  35 to 44  45 to 54  55 to 64  65+ years\n",
       "year                                                            \n",
       "2012               7.63     11.13     14.67     17.19      12.63\n",
       "2013               9.96     10.42     16.81     18.39      13.41\n",
       "2014              10.18     12.45     14.62     19.91      13.19\n",
       "2015               9.81     14.21     13.27     16.99      13.85\n",
       "2016              11.84     11.85     14.59     18.65      14.61\n",
       "2017              19.80     19.53     16.40     22.32      16.94\n",
       "2018              17.69     14.56     20.06     21.44      15.60"
      ]
     },
     "execution_count": 20,
     "metadata": {},
     "output_type": "execute_result"
    }
   ],
   "source": [
    "# Creating a filter for age:\n",
    "\n",
    "age_filter = depress_df['category'] == 'Age'\n",
    "age_depress_df = depress_df[age_filter]\n",
    "\n",
    "# To show the 5 columns for depression percentages by age bracket\n",
    "# for each year from 2012 to 2018:\n",
    "\n",
    "age_grouped = age_depress_df.groupby(['year', 'category_name'])['percent'].sum().unstack()\n",
    "\n",
    "age_grouped"
   ]
  },
  {
   "cell_type": "code",
   "execution_count": 62,
   "metadata": {},
   "outputs": [
    {
     "data": {
      "text/plain": [
       "category_name\n",
       "18 to 34     12.415714\n",
       "35 to 44     13.450000\n",
       "45 to 54     15.774286\n",
       "55 to 64     19.270000\n",
       "65+ years    14.318571\n",
       "dtype: float64"
      ]
     },
     "execution_count": 62,
     "metadata": {},
     "output_type": "execute_result"
    }
   ],
   "source": [
    "# To see the mean of depression rates among age group:\n",
    "\n",
    "depress_mean = age_grouped.mean(axis=0)\n",
    "\n",
    "depress_mean"
   ]
  },
  {
   "cell_type": "markdown",
   "metadata": {},
   "source": [
    "* There are a lot more numbers this time, so it might help us further to create a bar graph first before making our observations:"
   ]
  },
  {
   "cell_type": "code",
   "execution_count": 21,
   "metadata": {},
   "outputs": [
    {
     "data": {
      "text/plain": [
       "<AxesSubplot:xlabel='year'>"
      ]
     },
     "execution_count": 21,
     "metadata": {},
     "output_type": "execute_result"
    },
    {
     "data": {
      "image/png": "[encoded data removed]",
      "text/plain": [
       "<Figure size 864x288 with 1 Axes>"
      ]
     },
     "metadata": {
      "needs_background": "light"
     },
     "output_type": "display_data"
    }
   ],
   "source": [
    "# To produce a grouped bar plot,\n",
    "# grouped by each year and by each age bracket we have:\n",
    "\n",
    "age_grouped.plot(kind='bar', figsize=(12,4))"
   ]
  },
  {
   "cell_type": "markdown",
   "metadata": {},
   "source": [
    "### Observations:\n",
    "\n",
    "* Depression percentages seem to increase as people get older in CA, and the data is consistent with the finding that depression rates are increasing overall throughout the years.\n",
    "* The red bars for each year show us that the 55 to 64 age group reported the highest depression percentages for all 7 years.\n",
    "* It is interesting to look at the 45 to 54 age group (green bar), which reported decreasing depression percentages from 2013 to 2016 before increasing again after that.\n",
    "* Another important observation is that the youngest 18 to 34 age group reported a very big increase from 2016 to 2017, which might have contributed most to the big spike in overall depression rates that we observed earlier in our analysis during those two years.\n",
    "* Also, one thing to note is that the 18 to 34, and 65+, age groups cover more people than the other, narrower age groups (35 to 44, 45 to 54, and 55 to 64 are all separated by 9 years). Then it is all the more interesting that despite the youngest and oldest age groups covering a wider amount of ages, the 55 to 64 age group still reported the highest depression rates in every year. This might have to do with the specific life stages that this age group experiences that might lead them to spending more time alone; something worth considering and researching later."
   ]
  },
  {
   "cell_type": "markdown",
   "metadata": {},
   "source": [
    "The bar plot is helpful in visualizing and making observations, but for my data story, I want it to be a little easier for the audience to comprehend. \n",
    "\n",
    "I think that a line plot might be better-suited for this, so I will do that below:"
   ]
  },
  {
   "cell_type": "code",
   "execution_count": 55,
   "metadata": {},
   "outputs": [
    {
     "data": {
      "text/plain": [
       "<matplotlib.legend.Legend at 0x7fa17c9c3390>"
      ]
     },
     "execution_count": 55,
     "metadata": {},
     "output_type": "execute_result"
    },
    {
     "data": {
      "image/png": "[encoded data removed]",
      "text/plain": [
       "<Figure size 864x288 with 1 Axes>"
      ]
     },
     "metadata": {
      "needs_background": "light"
     },
     "output_type": "display_data"
    }
   ],
   "source": [
    "# Making a line plot, and labeling the plot title & axes:\n",
    "\n",
    "age_grouped.plot(kind='line', figsize=(12,4), style='-o')\n",
    "plt.title('CA Adult Depression Rates By Age', fontsize=20)\n",
    "plt.xlabel('Year')\n",
    "plt.ylabel('Percent')\n",
    "plt.legend(title='Age group')"
   ]
  },
  {
   "cell_type": "markdown",
   "metadata": {},
   "source": [
    "Much better way of visualizing the data! Clear and effective. I will be including this in my final data story for sure! :)"
   ]
  },
  {
   "cell_type": "markdown",
   "metadata": {},
   "source": [
    "### Observations:\n",
    "\n",
    "* Main point: Ages 55 to 64 report the highest rates of depression.\n",
    "* Females report higher depression levels.\n",
    "* What happened between 2016 to 2017 for the depression rates to spike more than the other years?\n",
    "\n",
    "These findings lead me to look further into the first bullet point above: 55-64 year-olds. What is it about this age range? Could we perhaps find data from the same large survey to get an idea of the people in this age range?\n",
    "\n",
    "I'm going to look into other potential factors that may help us understand what these individuals are going through. A lot of different factors are running through my mind: unemployment or income statistics, physical activity, divorce, etc! \n",
    "\n",
    "I have found several factors including adverse childhood experiences, proportion of current smokers, prevalence of diabetes, those meeting physical activity guidelines. These will be my next data_analysis notebooks. Let's get into that! Please refer to the first one, adverse childhood experiences. \n",
    "\n",
    "Thank you!"
   ]
  }
 ],
 "metadata": {
  "kernelspec": {
   "display_name": "Python 3",
   "language": "python",
   "name": "python3"
  },
  "language_info": {
   "codemirror_mode": {
    "name": "ipython",
    "version": 3
   },
   "file_extension": ".py",
   "mimetype": "text/x-python",
   "name": "python",
   "nbconvert_exporter": "python",
   "pygments_lexer": "ipython3",
   "version": "3.7.3"
  }
 },
 "nbformat": 4,
 "nbformat_minor": 2
}
