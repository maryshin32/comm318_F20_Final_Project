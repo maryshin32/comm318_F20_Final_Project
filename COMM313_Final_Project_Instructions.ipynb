{
 "cells": [
  {
   "cell_type": "markdown",
   "metadata": {},
   "source": [
    "# COMM318 Final Project\n",
    "\n",
    "### Your final project should have three components:\n",
    "\n",
    "#### 1. Your data\n",
    "\n",
    "* Organize the various data files you have used in your analysis in the `data` folder.\n",
    "\n",
    "\n",
    "* You can use sub-folders if this helps with the organization. \n",
    "    * For example, you might have:\n",
    "        * an `orig` or `raw` folder for original data your downloaded from `data.gov`\n",
    "        * a `clean` or `processed` folder that contains the cleaned up, selected and/or merged datasheets you created during your data analysis.\n",
    "\n",
    "\n",
    "#### 2. Analysis notebooks\n",
    "\n",
    "* A series of Jupyter notebooks that contain all the data manipulation, exploration, description and analyses you have carried out on the various datasets you have chosen to use. \n",
    "\n",
    "\n",
    "* These notebooks should be well organized and documented using Markdown cells around your code cells. \n",
    "    * __DON'T EXPECT THE CODE TO SPEAK FOR ITSELF__ - It is important to provide comments and documentation around the code you use to do your analysis. Notebooks and Markdown cells make this kind of programming easier to do and much better for sharing with others.\n",
    "\n",
    "\n",
    "* Use a Markdown document called `README.md` to describe and link to all the notebooks in this analysis folder. \n",
    "\n",
    "\n",
    "\n",
    "#### 3. Your data story \n",
    "\n",
    "* This is the creative output that tells the main story that you have selected out of all of your analysis.\n",
    "\n",
    "\n",
    "* It is up to you to decide how you want to present your data story - so __BE CREATIVE!__. \n",
    "\n",
    "\n",
    "* But possible options could be:\n",
    "    * A data journalism article (like those we've seen from NYTimes, Guardian, LATimes, etc.)\n",
    "    * A blog post (like those on medium.com)\n",
    "    * A slide show presentation (jupyter notebooks can be used to make reveal.js web presentations)\n",
    "    * A screencast style video (e.g. the hand drawing on a whiteboard style presentation)\n",
    "    * Other kinds of video, e.g. vlog, story video etc.\n",
    "    * A poster\n",
    "    \n",
    "    "
   ]
  },
  {
   "cell_type": "markdown",
   "metadata": {},
   "source": [
    "---"
   ]
  },
  {
   "cell_type": "code",
   "execution_count": 1,
   "metadata": {},
   "outputs": [],
   "source": [
    "from IPython.display import Markdown"
   ]
  },
  {
   "cell_type": "code",
   "execution_count": 6,
   "metadata": {},
   "outputs": [],
   "source": [
    "readme = open('README.md').read()"
   ]
  },
  {
   "cell_type": "code",
   "execution_count": 7,
   "metadata": {},
   "outputs": [
    {
     "data": {
      "text/markdown": [
       "# My final project for COMM318 _Stories from Data_ (Fall2020)\n",
       "\n",
       "## What insights can we gain about mental health and wellness among different populations in California?\n",
       "\n",
       "When my family and I moved from Seoul, South Korea to Irvine, CA, it took me a few years to adjust to life in a completely new country. Throughout those years, my parents taught me and my brother that we should always feel comfortable and open about discussing our struggles and emotional hardships, and that we would get through it together. I was lucky and so grateful to be able to grow up in a supportive environment like this, and it influenced me to try and create that energy for others around me. In high school and now in college, I have always been heavily involved in health and wellness initiatives at school. I have a strong passion for understanding mental health issues and supporting those in my community to give space for important conversations about our physical, mental, and emotional health. \n",
       "\n",
       "When I was brainstorming what question(s) to investigate in this COMM 318 Final Project, I knew I wanted to focus on these related topics. More specifically, my goal was to focus on my home state of CA and try to understand the prevalence of mental health issues across different demographics. I was fascinated by Google Trends and so my initial starting point was to examine search interest in mental health-related terms (in CA) through this database. You will be able to find my exploration and analysis of this Google Trends data in the data_exploration and data_analysis folders. After this, I moved onto searching for data sets on the California Health and Human Services (CHHS) Open Data Portal on: https://data.chhs.ca.gov/.\n",
       "\n",
       "I discovered a data set on Adult Depression rates from 2012 to 2018, which was listed as a Let's Get Healthy California (LGHC) indicator. (https://letsgethealthy.ca.gov/) In the data_exploration folder, I go through cleaning the raw data sets I found with Google Trends data and the depression rates, and I make initial observations. While I cleaned, organized, and explored the data sets, additional questions arose, and these further led me to look for more information from the LGHC indicator and survey data:\n",
       "\n",
       "## What are some of the factors related to higher depression rates among certain age groups?\n",
       "\n",
       "In the data_analysis folder, I move beyond my exploration on depression rates into analysis. I discovered fascinating and meaningful differences among age groups! With these results, I asked myself: What is it about age range that leads to differences in the depression rate trends? Thus, I went back to the LGHC indicator. Through the same CHHS data portal and also the larger California Open Data Portal (https://data.ca.gov/), I browsed through data sets that could help me characterize the correlation of depression trends among age group. Specifically, if we go in the data_exploration folder, I clean and observe the following potential factors that contribute to mental health issues: \n",
       "\n",
       "* Adverse Childhood Experiences (ACEs) \n",
       "* Cigarette and tobacco use\n",
       "* Current smokers\n",
       "* Prevalence of diabetes\n",
       "* Physical activity\n",
       "* Unemployment\n",
       "\n",
       "After exploring these data sets, I realized that some of these data sets would not be meaningful or insightful for my data story. I explain the details in the notebooks for each specific data set. In the data_analysis folder, I move deeper into analyzing ACEs, current smokers, diabetes, and physical activity. \n",
       "\n",
       "If you look through each notebook in this analysis folder, I use the insights I gained from analyzing the depression rates to lead me through analyzing the four factors. You will see that I focus my analysis strictly on differences among the age groups involved, because I knew that I wanted to understand the broad experiences, habits, and behaviors for people in each age range. This would allow me to address both of my major research questions: What insights can we gain about health and wellness for different demographic populations in CA? What are the factors about age groups that we can connect back to mental health? \n",
       "\n",
       "The final product of my research project is a data-driven article I wrote on Medium.com. This link can be found in the data_story_exploration folder. Please make sure to check out the raw and cleaned data sets in the data folder, and then follow along with each notebook in the data_exploration and data_analysis folders to discern the process I went through before I wrote my article!\n",
       "\n",
       "Thank you so much, I hope you enjoy reading about my project!"
      ],
      "text/plain": [
       "<IPython.core.display.Markdown object>"
      ]
     },
     "execution_count": 7,
     "metadata": {},
     "output_type": "execute_result"
    }
   ],
   "source": [
    "Markdown(readme)"
   ]
  },
  {
   "cell_type": "code",
   "execution_count": null,
   "metadata": {},
   "outputs": [],
   "source": []
  }
 ],
 "metadata": {
  "kernelspec": {
   "display_name": "Python 3",
   "language": "python",
   "name": "python3"
  },
  "language_info": {
   "codemirror_mode": {
    "name": "ipython",
    "version": 3
   },
   "file_extension": ".py",
   "mimetype": "text/x-python",
   "name": "python",
   "nbconvert_exporter": "python",
   "pygments_lexer": "ipython3",
   "version": "3.7.3"
  }
 },
 "nbformat": 4,
 "nbformat_minor": 2
}
